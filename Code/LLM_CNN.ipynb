{
 "cells": [
  {
   "cell_type": "markdown",
   "metadata": {},
   "source": [
    "# **Creating Word Embeddings**"
   ]
  },
  {
   "cell_type": "code",
   "execution_count": 1,
   "metadata": {
    "execution": {
     "iopub.execute_input": "2024-11-29T01:03:49.086591Z",
     "iopub.status.busy": "2024-11-29T01:03:49.086277Z",
     "iopub.status.idle": "2024-11-29T01:04:02.076005Z",
     "shell.execute_reply": "2024-11-29T01:04:02.075254Z",
     "shell.execute_reply.started": "2024-11-29T01:03:49.086564Z"
    },
    "trusted": true
   },
   "outputs": [],
   "source": [
    "import torch\n",
    "from transformers import BertModel, BertTokenizer, XLNetModel, XLNetTokenizer, T5EncoderModel, T5Tokenizer\n",
    "from sklearn.model_selection import train_test_split\n",
    "import re\n",
    "import os\n",
    "import requests\n",
    "import gc\n",
    "from tqdm.auto import tqdm\n",
    "import pandas as pd\n",
    "import numpy as np\n",
    "\n",
    "import warnings\n",
    "warnings.filterwarnings(\"ignore\")"
   ]
  },
  {
   "cell_type": "code",
   "execution_count": 2,
   "metadata": {
    "execution": {
     "iopub.execute_input": "2024-11-29T01:04:02.077711Z",
     "iopub.status.busy": "2024-11-29T01:04:02.077264Z",
     "iopub.status.idle": "2024-11-29T01:04:02.135248Z",
     "shell.execute_reply": "2024-11-29T01:04:02.134358Z",
     "shell.execute_reply.started": "2024-11-29T01:04:02.077690Z"
    },
    "trusted": true
   },
   "outputs": [
    {
     "data": {
      "text/plain": [
       "(True, 'Tesla T4')"
      ]
     },
     "execution_count": 2,
     "metadata": {},
     "output_type": "execute_result"
    }
   ],
   "source": [
    "# Check if CUDA is available\n",
    "cuda_available = torch.cuda.is_available()\n",
    "\n",
    "# If CUDA is available, we will fetch the name of the CUDA device, otherwise we will return a message stating CUDA is not available.\n",
    "cuda_device_info = torch.cuda.get_device_name(0) if cuda_available else \"CUDA is not available.\"\n",
    "\n",
    "cuda_available, cuda_device_info"
   ]
  },
  {
   "cell_type": "markdown",
   "metadata": {},
   "source": [
    "## **Functions to Extract Word Embeddings**"
   ]
  },
  {
   "cell_type": "code",
   "execution_count": 3,
   "metadata": {
    "execution": {
     "iopub.execute_input": "2024-11-29T01:04:04.650471Z",
     "iopub.status.busy": "2024-11-29T01:04:04.650112Z",
     "iopub.status.idle": "2024-11-29T01:04:04.667252Z",
     "shell.execute_reply": "2024-11-29T01:04:04.666388Z",
     "shell.execute_reply.started": "2024-11-29T01:04:04.650445Z"
    },
    "trusted": true
   },
   "outputs": [],
   "source": [
    "class LM_EMBED:\n",
    "\n",
    "  def __init__(self, language_model, max_len, rare_aa):\n",
    "    self.lang_model = language_model\n",
    "    self.max_len = max_len\n",
    "    self.rare_aa = rare_aa\n",
    "\n",
    "    # Import tokenizer and model from ProtTrans Pre-Trained Rostlab:\n",
    "    if self.lang_model == 'BERT-BFD':\n",
    "      self.tokenizer = BertTokenizer.from_pretrained('Rostlab/prot_bert_bfd', do_lower_case=False)\n",
    "      self.model = BertModel.from_pretrained(\"Rostlab/prot_bert_bfd\")\n",
    "    elif self.lang_model == 'BERT':\n",
    "      self.tokenizer = BertTokenizer.from_pretrained(\"Rostlab/prot_bert\", do_lower_case=False)\n",
    "      self.model = BertModel.from_pretrained(\"Rostlab/prot_bert\")\n",
    "    elif self.lang_model == 'T5-XL-BFD':\n",
    "      self.tokenizer = T5Tokenizer.from_pretrained(\"Rostlab/prot_t5_xl_bfd\", do_lower_case=False )\n",
    "      self.model = T5EncoderModel.from_pretrained(\"Rostlab/prot_t5_xl_bfd\")\n",
    "      gc.collect()\n",
    "    elif self.lang_model == 'T5-XL-UNI':\n",
    "      self.tokenizer = T5Tokenizer.from_pretrained(\"Rostlab/prot_t5_xl_uniref50\", do_lower_case=False )\n",
    "      self.model = T5EncoderModel.from_pretrained(\"Rostlab/prot_t5_xl_uniref50\")\n",
    "      gc.collect()\n",
    "    elif self.lang_model == 'XLNET':\n",
    "      self.tokenizer = XLNetTokenizer.from_pretrained(\"Rostlab/prot_xlnet\", do_lower_case=False)\n",
    "      self.model = XLNetModel.from_pretrained(\"Rostlab/prot_xlnet\", mem_len=512)\n",
    "\n",
    "\n",
    "  # Function to use the specified model and tokenizer to create word embedding array:\n",
    "  def extract_word_embs(self, seq_df, filename):\n",
    "\n",
    "    # Setting device to GPU if available:\n",
    "    device = torch.device('cuda:0' if torch.cuda.is_available() else 'cpu')\n",
    "    print(device)\n",
    "    # Assigning model to GPU if available, and setting to eval mode:\n",
    "    self.model = self.model.to(device)\n",
    "    self.model = self.model.eval()\n",
    "\n",
    "    # Making a list of sequences from the df:\n",
    "    seqs_list = seq_df.Sequence.to_list()\n",
    "\n",
    "    # Adding spaces in between sequence letters (amino acids):\n",
    "    seqs_spaced = self.add_spaces(seqs_list)\n",
    "\n",
    "    # Map Rarely Occuring Amino Acids (U, Z, O, B) to (X) if they are present in the dataset:\n",
    "    if self.rare_aa:\n",
    "      seqs_spaced = [re.sub(r\"[UZOB]\", \"X\", sequence) for sequence in seqs_spaced]\n",
    "\n",
    "    # ID list tokenized:\n",
    "    ids = self.tokenizer.batch_encode_plus(seqs_spaced, add_special_tokens=True, padding = 'max_length', max_length = self.max_len)\n",
    "\n",
    "    # Retrieving the input IDs and mask for attention as tensors:\n",
    "    input_ids = torch.tensor(ids['input_ids']).to(device)\n",
    "    attention_mask = torch.tensor(ids['attention_mask']).to(device)\n",
    "\n",
    "    # Emptying cache to ensure enough memory:\n",
    "    torch.cuda.empty_cache()\n",
    "\n",
    "    # Loop to process the sequences into embeddings in batches of 10:\n",
    "    for i in range(10, len(input_ids)+10, 10):\n",
    "      if i%100 == 0:\n",
    "        print(\"Initial Embedding Batch Ending with...\", i)\n",
    "      with torch.no_grad():\n",
    "        embeddings = self.model(input_ids=input_ids[i-10:i], \n",
    "                                attention_mask=attention_mask[i-10:i])[0]\n",
    "        emb_array = embeddings.cpu().numpy()\n",
    "\n",
    "        # Creating initial array or concatenating to existing array:\n",
    "        if i==10:\n",
    "          embedding_res = emb_array\n",
    "        else:\n",
    "          embedding_res = np.concatenate((embedding_res, emb_array))\n",
    "\n",
    "    # Extracting features using the function below:\n",
    "    features = self.extract_features(embedding_res, attention_mask) \n",
    "\n",
    "    # Padding these features to a specified max length with zeros:\n",
    "    padded_arr = self.pad(features)\n",
    "\n",
    "    #Ensuring in correct location to save embeddings:\n",
    "    #%cd \"INSERT_EMBEDDINGS_FOLDER_LOC\"\n",
    "\n",
    "    # Saving array:\n",
    "    print(\"Saving Embeddings...\")\n",
    "    np.save(filename, padded_arr)\n",
    "\n",
    "\n",
    "  # Function to add spaces between the amino acids in each sequence:\n",
    "  def add_spaces(self, df_col):\n",
    "    return [\" \".join(x) for x in df_col]\n",
    "\n",
    "  # Function to remove any CLS or SEP tokens, just leaving features:\n",
    "  def extract_features(self, emb_res, att_msk):\n",
    "    features = [] \n",
    "\n",
    "    for seq_num in range(len(emb_res)):\n",
    "      seq_len = (att_msk[seq_num] == 1).sum()\n",
    "\n",
    "      if self.lang_model in ['BERT-BFD', 'BERT']:\n",
    "        seq_emd = emb_res[seq_num][1:seq_len-1]\n",
    "\n",
    "      elif self.lang_model in ['T5-XL-BFD', 'T5-XL-UNI']:\n",
    "        seq_emd = emb_res[seq_num][:seq_len-1]\n",
    "\n",
    "      elif self.lang_model == 'XLNET':\n",
    "        padded_seq_len = len(att_msk[seq_num])\n",
    "        seq_emd = emb_res[seq_num][padded_seq_len-seq_len:padded_seq_len-2]\n",
    "\n",
    "      features.append(seq_emd)\n",
    "    \n",
    "    features_arr = np.array(features, dtype=object)\n",
    "\n",
    "    return features_arr\n",
    "\n",
    "  # Function to add zeros to pad all features to max length:\n",
    "  def pad(self, features):\n",
    "    dim1 = self.max_len-2   # reducing by 2 for CLS and SEP tokens which have already been removed\n",
    "    dim2 = features[0].shape[1]\n",
    "\n",
    "    for i in range(len(features)):\n",
    "      if i%100 == 0:\n",
    "        print(\"Padding Batch: \", i)\n",
    "\n",
    "      all_zeros = np.zeros((dim1, dim2))\n",
    "      all_zeros[:features[i].shape[0], :features[i].shape[1]] = features[i]\n",
    "\n",
    "      if i==0:\n",
    "        padded_arr = all_zeros\n",
    "      elif i==1:\n",
    "        padded_arr = np.stack((padded_arr, all_zeros), axis=0)\n",
    "      else:\n",
    "        reshaped_arr = all_zeros.reshape(1, all_zeros.shape[0], all_zeros.shape[1])\n",
    "        padded_arr = np.vstack((padded_arr, reshaped_arr))\n",
    "    \n",
    "    return padded_arr"
   ]
  },
  {
   "cell_type": "markdown",
   "metadata": {},
   "source": [
    "## **Loading Dataset**"
   ]
  },
  {
   "cell_type": "code",
   "execution_count": null,
   "metadata": {
    "execution": {
     "iopub.execute_input": "2024-11-29T01:04:08.411758Z",
     "iopub.status.busy": "2024-11-29T01:04:08.411482Z",
     "iopub.status.idle": "2024-11-29T01:04:08.461646Z",
     "shell.execute_reply": "2024-11-29T01:04:08.460869Z",
     "shell.execute_reply.started": "2024-11-29T01:04:08.411737Z"
    },
    "trusted": true
   },
   "outputs": [],
   "source": [
    "X_train = pd.read_csv('Dataset/Original Dataset/neuro-peptide-data-files/train.csv')\n",
    "y_train = X_train.drop(['Sequence'], axis=1)\n",
    "X_train.drop(['Label'], axis=1, inplace=True)\n",
    "\n",
    "X_val = pd.read_csv('Dataset/Original Dataset/neuro-peptide-data-files/val.csv')\n",
    "y_val = X_val.drop(['Sequence'], axis=1)\n",
    "X_val.drop(['Label'], axis=1, inplace=True)\n",
    "\n",
    "X_test = pd.read_csv('Dataset/Original Dataset/neuro-peptide-data-files/test.csv')\n",
    "y_test = X_test.drop(['Sequence'], axis=1)\n",
    "X_test.drop(['Label'], axis=1, inplace=True)"
   ]
  },
  {
   "cell_type": "markdown",
   "metadata": {},
   "source": [
    "## **Generating Embeddings**"
   ]
  },
  {
   "cell_type": "code",
   "execution_count": 9,
   "metadata": {
    "execution": {
     "iopub.execute_input": "2024-11-29T01:04:11.357856Z",
     "iopub.status.busy": "2024-11-29T01:04:11.357177Z",
     "iopub.status.idle": "2024-11-29T01:05:09.407060Z",
     "shell.execute_reply": "2024-11-29T01:05:09.406252Z",
     "shell.execute_reply.started": "2024-11-29T01:04:11.357829Z"
    },
    "trusted": true
   },
   "outputs": [
    {
     "data": {
      "application/vnd.jupyter.widget-view+json": {
       "model_id": "05a0842b91a5463ab32b8bd9b8d65a19",
       "version_major": 2,
       "version_minor": 0
      },
      "text/plain": [
       "spiece.model:   0%|          | 0.00/238k [00:00<?, ?B/s]"
      ]
     },
     "metadata": {},
     "output_type": "display_data"
    },
    {
     "data": {
      "application/vnd.jupyter.widget-view+json": {
       "model_id": "b40e6ea4921f4d2dad51dc7d1fc6d7de",
       "version_major": 2,
       "version_minor": 0
      },
      "text/plain": [
       "config.json:   0%|          | 0.00/1.35k [00:00<?, ?B/s]"
      ]
     },
     "metadata": {},
     "output_type": "display_data"
    },
    {
     "data": {
      "application/vnd.jupyter.widget-view+json": {
       "model_id": "2e64d89c33254448a17394ac76a4021c",
       "version_major": 2,
       "version_minor": 0
      },
      "text/plain": [
       "pytorch_model.bin:   0%|          | 0.00/1.64G [00:00<?, ?B/s]"
      ]
     },
     "metadata": {},
     "output_type": "display_data"
    }
   ],
   "source": [
    "# Specifying the max sequence length in the given dataset (255 for the LMPred Dataset), \n",
    "# then adding 2 to account for special [CLS, SEP] tokens added by the language models):\n",
    "max_seq_len = 102\n",
    "\n",
    "# BERT_BFD_EMBED = LM_EMBED('BERT-BFD', max_seq_len, True)\n",
    "# BERT_EMBED = LM_EMBED('BERT', max_seq_len, True)\n",
    "# T5XL_BFD_EMBED = LM_EMBED('T5-XL-BFD', max_seq_len, True)\n",
    "# T5XL_UNI_EMBED = LM_EMBED('T5-XL-UNI', max_seq_len, True)\n",
    "XLNET_EMMBED = LM_EMBED('XLNET', max_seq_len, True)"
   ]
  },
  {
   "cell_type": "code",
   "execution_count": 10,
   "metadata": {
    "execution": {
     "iopub.execute_input": "2024-11-29T01:05:09.481011Z",
     "iopub.status.busy": "2024-11-29T01:05:09.480783Z",
     "iopub.status.idle": "2024-11-29T01:05:09.484495Z",
     "shell.execute_reply": "2024-11-29T01:05:09.483696Z",
     "shell.execute_reply.started": "2024-11-29T01:05:09.480992Z"
    },
    "trusted": true
   },
   "outputs": [],
   "source": [
    "# BERT_BFD_EMBED.extract_word_embs(X_train, \"/kaggle/working/BERT_BFD_EMBED_X_TRAIN.npy\")\n",
    "# BERT_BFD_EMBED.extract_word_embs(X_val, \"/kaggle/working/BERT_BFD_EMBED_X_VAL.npy\")\n",
    "# BERT_BFD_EMBED.extract_word_embs(X_test, \"/kaggle/working/BERT_BFD_EMBED_X_TEST.npy\")"
   ]
  },
  {
   "cell_type": "code",
   "execution_count": 11,
   "metadata": {
    "execution": {
     "iopub.execute_input": "2024-11-29T01:05:09.485988Z",
     "iopub.status.busy": "2024-11-29T01:05:09.485772Z",
     "iopub.status.idle": "2024-11-29T01:05:09.501947Z",
     "shell.execute_reply": "2024-11-29T01:05:09.501360Z",
     "shell.execute_reply.started": "2024-11-29T01:05:09.485968Z"
    },
    "trusted": true
   },
   "outputs": [],
   "source": [
    "# BERT_EMBED.extract_word_embs(X_train, \"/kaggle/working/BERT_EMBED_X_TRAIN.npy\")\n",
    "# BERT_EMBED.extract_word_embs(X_val, \"/kaggle/working/BERT_EMBED_X_VAL.npy\")\n",
    "# BERT_EMBED.extract_word_embs(X_test, \"/kaggle/working/BERT_EMBED_X_TEST.npy\")"
   ]
  },
  {
   "cell_type": "code",
   "execution_count": 12,
   "metadata": {
    "execution": {
     "iopub.execute_input": "2024-11-29T01:05:09.503137Z",
     "iopub.status.busy": "2024-11-29T01:05:09.502877Z",
     "iopub.status.idle": "2024-11-29T01:05:09.511854Z",
     "shell.execute_reply": "2024-11-29T01:05:09.511060Z",
     "shell.execute_reply.started": "2024-11-29T01:05:09.503114Z"
    },
    "trusted": true
   },
   "outputs": [],
   "source": [
    "# T5XL_BFD_EMBED.extract_word_embs(X_train, \"/kaggle/working/T5XL_BFD_EMBED_X_TRAIN.npy\")\n",
    "# T5XL_BFD_EMBED.extract_word_embs(X_val, \"/kaggle/working/T5XL_BFD_EMBED_X_VAL.npy\")\n",
    "# T5XL_BFD_EMBED.extract_word_embs(X_test, \"/kaggle/working/T5XL_BFD_EMBED_X_TEST.npy\")"
   ]
  },
  {
   "cell_type": "code",
   "execution_count": 13,
   "metadata": {
    "execution": {
     "iopub.execute_input": "2024-11-29T01:05:09.513072Z",
     "iopub.status.busy": "2024-11-29T01:05:09.512831Z",
     "iopub.status.idle": "2024-11-29T01:05:09.522383Z",
     "shell.execute_reply": "2024-11-29T01:05:09.521653Z",
     "shell.execute_reply.started": "2024-11-29T01:05:09.513044Z"
    },
    "trusted": true
   },
   "outputs": [],
   "source": [
    "# T5XL_UNI_EMBED.extract_word_embs(X_train, \"/kaggle/working/T5XL_UNI_EMBED_X_TRAIN.npy\")\n",
    "# T5XL_UNI_EMBED.extract_word_embs(X_val, \"/kaggle/working/T5XL_UNI_EMBED_X_VAL.npy\")\n",
    "# T5XL_UNI_EMBED.extract_word_embs(X_test, \"/kaggle/working/T5XL_UNI_EMBED_X_TEST.npy\")"
   ]
  },
  {
   "cell_type": "code",
   "execution_count": 14,
   "metadata": {
    "execution": {
     "iopub.execute_input": "2024-11-29T01:05:09.523722Z",
     "iopub.status.busy": "2024-11-29T01:05:09.523417Z",
     "iopub.status.idle": "2024-11-29T01:35:47.074843Z",
     "shell.execute_reply": "2024-11-29T01:35:47.073841Z",
     "shell.execute_reply.started": "2024-11-29T01:05:09.523696Z"
    },
    "trusted": true
   },
   "outputs": [
    {
     "name": "stdout",
     "output_type": "stream",
     "text": [
      "cuda:0\n",
      "Initial Embedding Batch Ending with... 100\n",
      "Initial Embedding Batch Ending with... 200\n",
      "Initial Embedding Batch Ending with... 300\n",
      "Initial Embedding Batch Ending with... 400\n",
      "Initial Embedding Batch Ending with... 500\n",
      "Initial Embedding Batch Ending with... 600\n",
      "Initial Embedding Batch Ending with... 700\n",
      "Initial Embedding Batch Ending with... 800\n",
      "Initial Embedding Batch Ending with... 900\n",
      "Initial Embedding Batch Ending with... 1000\n",
      "Initial Embedding Batch Ending with... 1100\n",
      "Initial Embedding Batch Ending with... 1200\n",
      "Initial Embedding Batch Ending with... 1300\n",
      "Initial Embedding Batch Ending with... 1400\n",
      "Initial Embedding Batch Ending with... 1500\n",
      "Initial Embedding Batch Ending with... 1600\n",
      "Initial Embedding Batch Ending with... 1700\n",
      "Initial Embedding Batch Ending with... 1800\n",
      "Initial Embedding Batch Ending with... 1900\n",
      "Initial Embedding Batch Ending with... 2000\n",
      "Initial Embedding Batch Ending with... 2100\n",
      "Initial Embedding Batch Ending with... 2200\n",
      "Initial Embedding Batch Ending with... 2300\n",
      "Initial Embedding Batch Ending with... 2400\n",
      "Initial Embedding Batch Ending with... 2500\n",
      "Initial Embedding Batch Ending with... 2600\n",
      "Initial Embedding Batch Ending with... 2700\n",
      "Initial Embedding Batch Ending with... 2800\n",
      "Initial Embedding Batch Ending with... 2900\n",
      "Initial Embedding Batch Ending with... 3000\n",
      "Initial Embedding Batch Ending with... 3100\n",
      "Padding Batch:  0\n",
      "Padding Batch:  100\n",
      "Padding Batch:  200\n",
      "Padding Batch:  300\n",
      "Padding Batch:  400\n",
      "Padding Batch:  500\n",
      "Padding Batch:  600\n",
      "Padding Batch:  700\n",
      "Padding Batch:  800\n",
      "Padding Batch:  900\n",
      "Padding Batch:  1000\n",
      "Padding Batch:  1100\n",
      "Padding Batch:  1200\n",
      "Padding Batch:  1300\n",
      "Padding Batch:  1400\n",
      "Padding Batch:  1500\n",
      "Padding Batch:  1600\n",
      "Padding Batch:  1700\n",
      "Padding Batch:  1800\n",
      "Padding Batch:  1900\n",
      "Padding Batch:  2000\n",
      "Padding Batch:  2100\n",
      "Padding Batch:  2200\n",
      "Padding Batch:  2300\n",
      "Padding Batch:  2400\n",
      "Padding Batch:  2500\n",
      "Padding Batch:  2600\n",
      "Padding Batch:  2700\n",
      "Padding Batch:  2800\n",
      "Padding Batch:  2900\n",
      "Padding Batch:  3000\n",
      "Padding Batch:  3100\n",
      "Saving Embeddings...\n",
      "cuda:0\n",
      "Initial Embedding Batch Ending with... 100\n",
      "Initial Embedding Batch Ending with... 200\n",
      "Initial Embedding Batch Ending with... 300\n",
      "Initial Embedding Batch Ending with... 400\n",
      "Initial Embedding Batch Ending with... 500\n",
      "Initial Embedding Batch Ending with... 600\n",
      "Initial Embedding Batch Ending with... 700\n",
      "Padding Batch:  0\n",
      "Padding Batch:  100\n",
      "Padding Batch:  200\n",
      "Padding Batch:  300\n",
      "Padding Batch:  400\n",
      "Padding Batch:  500\n",
      "Padding Batch:  600\n",
      "Padding Batch:  700\n",
      "Saving Embeddings...\n",
      "cuda:0\n",
      "Initial Embedding Batch Ending with... 100\n",
      "Initial Embedding Batch Ending with... 200\n",
      "Initial Embedding Batch Ending with... 300\n",
      "Initial Embedding Batch Ending with... 400\n",
      "Initial Embedding Batch Ending with... 500\n",
      "Initial Embedding Batch Ending with... 600\n",
      "Initial Embedding Batch Ending with... 700\n",
      "Initial Embedding Batch Ending with... 800\n",
      "Initial Embedding Batch Ending with... 900\n",
      "Padding Batch:  0\n",
      "Padding Batch:  100\n",
      "Padding Batch:  200\n",
      "Padding Batch:  300\n",
      "Padding Batch:  400\n",
      "Padding Batch:  500\n",
      "Padding Batch:  600\n",
      "Padding Batch:  700\n",
      "Padding Batch:  800\n",
      "Padding Batch:  900\n",
      "Saving Embeddings...\n"
     ]
    }
   ],
   "source": [
    "XLNET_EMMBED.extract_word_embs(X_train, \"/kaggle/working/XLNET_EMMBED_X_TRAIN.npy\")\n",
    "XLNET_EMMBED.extract_word_embs(X_val, \"/kaggle/working/XLNET_EMMBED_X_VAL.npy\")\n",
    "XLNET_EMMBED.extract_word_embs(X_test, \"/kaggle/working/XLNET_EMMBED_X_TEST.npy\")"
   ]
  },
  {
   "cell_type": "markdown",
   "metadata": {},
   "source": [
    "# **Building CNN Model**"
   ]
  },
  {
   "cell_type": "code",
   "execution_count": 15,
   "metadata": {
    "execution": {
     "iopub.execute_input": "2024-11-29T01:35:47.077802Z",
     "iopub.status.busy": "2024-11-29T01:35:47.077131Z",
     "iopub.status.idle": "2024-11-29T01:36:01.376059Z",
     "shell.execute_reply": "2024-11-29T01:36:01.375353Z",
     "shell.execute_reply.started": "2024-11-29T01:35:47.077768Z"
    },
    "trusted": true
   },
   "outputs": [
    {
     "name": "stderr",
     "output_type": "stream",
     "text": [
      "2024-11-29 01:35:50.499802: E external/local_xla/xla/stream_executor/cuda/cuda_dnn.cc:9261] Unable to register cuDNN factory: Attempting to register factory for plugin cuDNN when one has already been registered\n",
      "2024-11-29 01:35:50.499931: E external/local_xla/xla/stream_executor/cuda/cuda_fft.cc:607] Unable to register cuFFT factory: Attempting to register factory for plugin cuFFT when one has already been registered\n",
      "2024-11-29 01:35:50.785020: E external/local_xla/xla/stream_executor/cuda/cuda_blas.cc:1515] Unable to register cuBLAS factory: Attempting to register factory for plugin cuBLAS when one has already been registered\n"
     ]
    }
   ],
   "source": [
    "import os\n",
    "import re\n",
    "import json\n",
    "import string\n",
    "import numpy as np\n",
    "import tensorflow as tf\n",
    "from tensorflow import keras\n",
    "from tensorflow.keras import layers\n",
    "from keras.models import Sequential\n",
    "from keras.layers import Embedding, Dense, Flatten, Dropout, InputLayer, Conv2D, MaxPooling2D, BatchNormalization, Input\n",
    "import pandas as pd\n",
    "from keras.callbacks import EarlyStopping, ModelCheckpoint, ReduceLROnPlateau\n",
    "import matplotlib.ticker as mtick\n",
    "from matplotlib import pyplot as plt"
   ]
  },
  {
   "cell_type": "code",
   "execution_count": 16,
   "metadata": {
    "execution": {
     "iopub.execute_input": "2024-11-29T01:36:01.377126Z",
     "iopub.status.busy": "2024-11-29T01:36:01.376907Z",
     "iopub.status.idle": "2024-11-29T01:36:01.381616Z",
     "shell.execute_reply": "2024-11-29T01:36:01.380776Z",
     "shell.execute_reply.started": "2024-11-29T01:36:01.377108Z"
    },
    "trusted": true
   },
   "outputs": [],
   "source": [
    "# Target Data:\n",
    "y_train = np.array(y_train)\n",
    "y_val = np.array(y_val)\n",
    "y_test = np.array(y_test)"
   ]
  },
  {
   "cell_type": "code",
   "execution_count": 17,
   "metadata": {
    "execution": {
     "iopub.execute_input": "2024-11-29T01:36:01.382688Z",
     "iopub.status.busy": "2024-11-29T01:36:01.382462Z",
     "iopub.status.idle": "2024-11-29T01:36:01.439485Z",
     "shell.execute_reply": "2024-11-29T01:36:01.438680Z",
     "shell.execute_reply.started": "2024-11-29T01:36:01.382670Z"
    },
    "trusted": true
   },
   "outputs": [],
   "source": [
    "# Reshaping y Data:\n",
    "y_train_res = y_train.astype('float32').reshape((-1,1))\n",
    "y_val_res = y_val.astype('float32').reshape((-1,1))"
   ]
  },
  {
   "cell_type": "code",
   "execution_count": 18,
   "metadata": {
    "execution": {
     "iopub.execute_input": "2024-11-29T01:36:01.441538Z",
     "iopub.status.busy": "2024-11-29T01:36:01.441230Z",
     "iopub.status.idle": "2024-11-29T01:36:01.451140Z",
     "shell.execute_reply": "2024-11-29T01:36:01.450577Z",
     "shell.execute_reply.started": "2024-11-29T01:36:01.441511Z"
    },
    "trusted": true
   },
   "outputs": [],
   "source": [
    "def load_X_data(lang_model):\n",
    "  if lang_model =='BERT':\n",
    "    X_train = np.load('/kaggle/working/BERT_EMBED_X_TRAIN.npy')\n",
    "    X_val = np.load('/kaggle/working/BERT_EMBED_X_VAL.npy')\n",
    "  elif lang_model =='BERT_BFD':\n",
    "    X_train = np.load('/kaggle/working/BERT_BFD_EMBED_X_TRAIN.npy')\n",
    "    X_val = np.load('/kaggle/working/BERT_BFD_EMBED_X_VAL.npy')\n",
    "  elif lang_model =='T5XL_UNI':\n",
    "    X_train = np.load('/kaggle/working/T5XL_UNI_EMBED_X_TRAIN.npy')\n",
    "    X_val = np.load('/kaggle/working/T5XL_UNI_EMBED_X_VAL.npy')\n",
    "  elif lang_model =='T5XL_BFD':\n",
    "    X_train = np.load('/kaggle/working/T5XL_BFD_EMBED_X_TRAIN.npy')\n",
    "    X_val = np.load('/kaggle/working/T5XL_BFD_EMBED_X_VAL.npy')\n",
    "  elif lang_model =='XLNET':\n",
    "    X_train = np.load('/kaggle/working/XLNET_EMMBED_X_TRAIN.npy')\n",
    "    X_val = np.load('/kaggle/working/XLNET_EMMBED_X_VAL.npy')\n",
    "\n",
    "  return X_train, X_val"
   ]
  },
  {
   "cell_type": "markdown",
   "metadata": {},
   "source": [
    "## **One Layer Model**"
   ]
  },
  {
   "cell_type": "code",
   "execution_count": 19,
   "metadata": {
    "execution": {
     "iopub.execute_input": "2024-11-29T01:36:01.452445Z",
     "iopub.status.busy": "2024-11-29T01:36:01.452174Z",
     "iopub.status.idle": "2024-11-29T01:36:01.472451Z",
     "shell.execute_reply": "2024-11-29T01:36:01.471706Z",
     "shell.execute_reply.started": "2024-11-29T01:36:01.452425Z"
    },
    "trusted": true
   },
   "outputs": [],
   "source": [
    "def train_model(X_train, y_train, X_val, y_val, model_path, plots_path, epochs, batch_size, use_tpu, filter, k_size, k_init, pool_strides, lr, opt):\n",
    "\n",
    "    def create_model():\n",
    "      # Create model\n",
    "      model = Sequential()\n",
    "\n",
    "      # Adding Convolutional (2D) Layer:\n",
    "      model.add(Conv2D(filters=filter, kernel_size=k_size, activation='relu', \n",
    "                      strides = 1, kernel_initializer=k_init, padding='same',\n",
    "                      input_shape = (100, 1024, 1)))\n",
    "\n",
    "      # Adding Max Pooling Layer:\n",
    "      model.add(MaxPooling2D(pool_size=2, strides=pool_strides))\n",
    "\n",
    "      # Adding Batch Normalisation Layer:\n",
    "      model.add(BatchNormalization(axis=1, momentum=0.99, epsilon=0.001))\n",
    "\n",
    "      model.add(Flatten())\n",
    "\n",
    "      # Adding the dense layer using Sigmoid function to predict in range [0, 1]:\n",
    "      model.add(Dense(1, activation='sigmoid'))\n",
    "      \n",
    "      # Choosing optimizer and compiling model:\n",
    "      if opt == 'Adam':\n",
    "        optimizer = keras.optimizers.Adam(learning_rate=lr)\n",
    "      else:\n",
    "        optimizer = keras.optimizers.SGD(learning_rate=lr)\n",
    "\n",
    "      model.compile(optimizer=optimizer, loss='binary_crossentropy', metrics=['accuracy'])\n",
    "\n",
    "      return model\n",
    "\n",
    "    # Assigning to TPU strategy:\n",
    "    # Disabling displayed debugging logs:\n",
    "    os.environ['TF_CPP_MIN_LOG_LEVEL'] = '3'\n",
    "    if use_tpu:\n",
    "        # Create distribution strategy:\n",
    "        tpu = tf.distribute.cluster_resolver.TPUClusterResolver()\n",
    "        tf.config.experimental_connect_to_cluster(tpu)\n",
    "        tf.tpu.experimental.initialize_tpu_system(tpu)\n",
    "        strategy = tf.distribute.TPUStrategy(tpu)\n",
    "\n",
    "        # Create model:\n",
    "        with strategy.scope():\n",
    "            model = create_model()\n",
    "    else:\n",
    "        print(\"here\")\n",
    "        !nvidia-smi -L\n",
    "        model = create_model()\n",
    "\n",
    "    model.summary()\n",
    "\n",
    "    # Using callbacks for the model:\n",
    "    earlyStopping = EarlyStopping(monitor='val_loss', patience=12, verbose=0, mode='min')\n",
    "    mcp_save = ModelCheckpoint(model_path, save_best_only=True, monitor='val_loss', mode='min')\n",
    "    reduce_lr_loss = ReduceLROnPlateau(monitor='val_loss', factor=0.1, patience=2, verbose=1, min_delta=1e-4, mode='min')\n",
    "\n",
    "    # Reshaping X and y Data for Model Input:\n",
    "    seq_height = 100\n",
    "    seq_width = 1024\n",
    "\n",
    "    X_train_res = X_train.reshape(X_train.shape[0], seq_height, seq_width, 1)\n",
    "    X_val_res = X_val.reshape(X_val.shape[0], seq_height, seq_width, 1)\n",
    "\n",
    "    y_train_res = y_train.astype('float32').reshape((-1,1))\n",
    "    y_val_res = y_val.astype('float32').reshape((-1,1))\n",
    "    \n",
    "    print(X_train_res.shape)\n",
    "    # Fitting the model:\n",
    "    history = model.fit(X_train_res,\n",
    "              y_train_res,\n",
    "              validation_data=(X_val_res, y_val_res),\n",
    "              epochs=epochs,\n",
    "              batch_size=batch_size,\n",
    "              callbacks=[earlyStopping, mcp_save, reduce_lr_loss])\n",
    "    \n",
    "    # Plotting Accuracy and Loss Curves:\n",
    "    fig, ax = plt.subplots(1,2, figsize=(18,6), dpi=80)\n",
    "    train_metrics = ['accuracy', 'loss']\n",
    "    val_metrics = ['val_accuracy', 'val_loss']\n",
    "    titles = ['Model Accuracy', 'Model Loss vs. Learning Rate']\n",
    "    y_labels = ['Accuracy', 'Loss']\n",
    "    leg_loc = ['upper left', 'upper right']\n",
    "\n",
    "    for i in range(2):\n",
    "      \n",
    "      ax[i].plot(history.history[train_metrics[i]])\n",
    "      ax[i].plot(history.history[val_metrics[i]])\n",
    "      \n",
    "      if i == 1:\n",
    "        ax2=ax[i].twinx()\n",
    "        ax2.plot(history.history['lr'], color= 'magenta', linestyle='dotted')\n",
    "        ax2.set_ylabel('Learning Rate')\n",
    "        ax2.legend(['Learning Rate'], fancybox=True, framealpha=1, shadow=True, borderpad=1, bbox_to_anchor=(1.0, 0.85))\n",
    "        ax2.yaxis.set_major_formatter(mtick.FormatStrFormatter('%.e'))\n",
    "\n",
    "      \n",
    "      ax[i].set_title(titles[i], fontsize=12, fontweight='bold')\n",
    "      ax[i].set_ylabel(y_labels[i])\n",
    "      ax[i].set_xlabel('Epoch')\n",
    "      ax[i].legend(['Train', 'Val'], loc=leg_loc[i], fancybox=True, framealpha=1, shadow=True, borderpad=1)\n",
    "\n",
    "    plt.savefig(plots_path, bbox_inches='tight')\n",
    "    plt.show()\n",
    "    "
   ]
  },
  {
   "cell_type": "markdown",
   "metadata": {},
   "source": [
    "## **Bert**"
   ]
  },
  {
   "cell_type": "code",
   "execution_count": 20,
   "metadata": {
    "execution": {
     "iopub.execute_input": "2024-11-29T01:36:05.089230Z",
     "iopub.status.busy": "2024-11-29T01:36:05.088917Z",
     "iopub.status.idle": "2024-11-29T01:36:06.191364Z",
     "shell.execute_reply": "2024-11-29T01:36:06.190326Z",
     "shell.execute_reply.started": "2024-11-29T01:36:05.089207Z"
    },
    "trusted": true
   },
   "outputs": [],
   "source": [
    "X_train, X_val = load_X_data('XLNET')"
   ]
  },
  {
   "cell_type": "code",
   "execution_count": 21,
   "metadata": {
    "execution": {
     "iopub.execute_input": "2024-11-29T01:36:06.192943Z",
     "iopub.status.busy": "2024-11-29T01:36:06.192655Z",
     "iopub.status.idle": "2024-11-29T01:36:06.199948Z",
     "shell.execute_reply": "2024-11-29T01:36:06.198757Z",
     "shell.execute_reply.started": "2024-11-29T01:36:06.192919Z"
    },
    "trusted": true
   },
   "outputs": [
    {
     "data": {
      "text/plain": [
       "(3104, 100, 1024)"
      ]
     },
     "execution_count": 21,
     "metadata": {},
     "output_type": "execute_result"
    }
   ],
   "source": [
    "X_train.shape"
   ]
  },
  {
   "cell_type": "code",
   "execution_count": 22,
   "metadata": {
    "execution": {
     "iopub.execute_input": "2024-11-29T01:36:06.623275Z",
     "iopub.status.busy": "2024-11-29T01:36:06.622359Z",
     "iopub.status.idle": "2024-11-29T01:36:06.629100Z",
     "shell.execute_reply": "2024-11-29T01:36:06.628251Z",
     "shell.execute_reply.started": "2024-11-29T01:36:06.623235Z"
    },
    "trusted": true
   },
   "outputs": [
    {
     "data": {
      "text/plain": [
       "(776, 100, 1024)"
      ]
     },
     "execution_count": 22,
     "metadata": {},
     "output_type": "execute_result"
    }
   ],
   "source": [
    "X_val.shape"
   ]
  },
  {
   "cell_type": "code",
   "execution_count": 24,
   "metadata": {
    "execution": {
     "iopub.execute_input": "2024-11-29T01:36:25.091538Z",
     "iopub.status.busy": "2024-11-29T01:36:25.090705Z",
     "iopub.status.idle": "2024-11-29T01:50:39.261465Z",
     "shell.execute_reply": "2024-11-29T01:50:39.260133Z",
     "shell.execute_reply.started": "2024-11-29T01:36:25.091510Z"
    },
    "trusted": true
   },
   "outputs": [
    {
     "name": "stdout",
     "output_type": "stream",
     "text": [
      "here\n",
      "GPU 0: Tesla T4 (UUID: GPU-a37e1438-dc7a-1494-fdc5-e474bf0e0cd7)\n",
      "GPU 1: Tesla T4 (UUID: GPU-30091525-59b3-31f9-59bb-872952a73d61)\n"
     ]
    },
    {
     "data": {
      "text/html": [
       "<pre style=\"white-space:pre;overflow-x:auto;line-height:normal;font-family:Menlo,'DejaVu Sans Mono',consolas,'Courier New',monospace\"><span style=\"font-weight: bold\">Model: \"sequential_1\"</span>\n",
       "</pre>\n"
      ],
      "text/plain": [
       "\u001b[1mModel: \"sequential_1\"\u001b[0m\n"
      ]
     },
     "metadata": {},
     "output_type": "display_data"
    },
    {
     "data": {
      "text/html": [
       "<pre style=\"white-space:pre;overflow-x:auto;line-height:normal;font-family:Menlo,'DejaVu Sans Mono',consolas,'Courier New',monospace\">┏━━━━━━━━━━━━━━━━━━━━━━━━━━━━━━━━━┳━━━━━━━━━━━━━━━━━━━━━━━━┳━━━━━━━━━━━━━━━┓\n",
       "┃<span style=\"font-weight: bold\"> Layer (type)                    </span>┃<span style=\"font-weight: bold\"> Output Shape           </span>┃<span style=\"font-weight: bold\">       Param # </span>┃\n",
       "┡━━━━━━━━━━━━━━━━━━━━━━━━━━━━━━━━━╇━━━━━━━━━━━━━━━━━━━━━━━━╇━━━━━━━━━━━━━━━┩\n",
       "│ conv2d_1 (<span style=\"color: #0087ff; text-decoration-color: #0087ff\">Conv2D</span>)               │ (<span style=\"color: #00d7ff; text-decoration-color: #00d7ff\">None</span>, <span style=\"color: #00af00; text-decoration-color: #00af00\">100</span>, <span style=\"color: #00af00; text-decoration-color: #00af00\">1024</span>, <span style=\"color: #00af00; text-decoration-color: #00af00\">320</span>) │        <span style=\"color: #00af00; text-decoration-color: #00af00\">39,040</span> │\n",
       "├─────────────────────────────────┼────────────────────────┼───────────────┤\n",
       "│ max_pooling2d_1 (<span style=\"color: #0087ff; text-decoration-color: #0087ff\">MaxPooling2D</span>)  │ (<span style=\"color: #00d7ff; text-decoration-color: #00d7ff\">None</span>, <span style=\"color: #00af00; text-decoration-color: #00af00\">13</span>, <span style=\"color: #00af00; text-decoration-color: #00af00\">128</span>, <span style=\"color: #00af00; text-decoration-color: #00af00\">320</span>)   │             <span style=\"color: #00af00; text-decoration-color: #00af00\">0</span> │\n",
       "├─────────────────────────────────┼────────────────────────┼───────────────┤\n",
       "│ batch_normalization_1           │ (<span style=\"color: #00d7ff; text-decoration-color: #00d7ff\">None</span>, <span style=\"color: #00af00; text-decoration-color: #00af00\">13</span>, <span style=\"color: #00af00; text-decoration-color: #00af00\">128</span>, <span style=\"color: #00af00; text-decoration-color: #00af00\">320</span>)   │            <span style=\"color: #00af00; text-decoration-color: #00af00\">52</span> │\n",
       "│ (<span style=\"color: #0087ff; text-decoration-color: #0087ff\">BatchNormalization</span>)            │                        │               │\n",
       "├─────────────────────────────────┼────────────────────────┼───────────────┤\n",
       "│ flatten_1 (<span style=\"color: #0087ff; text-decoration-color: #0087ff\">Flatten</span>)             │ (<span style=\"color: #00d7ff; text-decoration-color: #00d7ff\">None</span>, <span style=\"color: #00af00; text-decoration-color: #00af00\">532480</span>)         │             <span style=\"color: #00af00; text-decoration-color: #00af00\">0</span> │\n",
       "├─────────────────────────────────┼────────────────────────┼───────────────┤\n",
       "│ dense_1 (<span style=\"color: #0087ff; text-decoration-color: #0087ff\">Dense</span>)                 │ (<span style=\"color: #00d7ff; text-decoration-color: #00d7ff\">None</span>, <span style=\"color: #00af00; text-decoration-color: #00af00\">1</span>)              │       <span style=\"color: #00af00; text-decoration-color: #00af00\">532,481</span> │\n",
       "└─────────────────────────────────┴────────────────────────┴───────────────┘\n",
       "</pre>\n"
      ],
      "text/plain": [
       "┏━━━━━━━━━━━━━━━━━━━━━━━━━━━━━━━━━┳━━━━━━━━━━━━━━━━━━━━━━━━┳━━━━━━━━━━━━━━━┓\n",
       "┃\u001b[1m \u001b[0m\u001b[1mLayer (type)                   \u001b[0m\u001b[1m \u001b[0m┃\u001b[1m \u001b[0m\u001b[1mOutput Shape          \u001b[0m\u001b[1m \u001b[0m┃\u001b[1m \u001b[0m\u001b[1m      Param #\u001b[0m\u001b[1m \u001b[0m┃\n",
       "┡━━━━━━━━━━━━━━━━━━━━━━━━━━━━━━━━━╇━━━━━━━━━━━━━━━━━━━━━━━━╇━━━━━━━━━━━━━━━┩\n",
       "│ conv2d_1 (\u001b[38;5;33mConv2D\u001b[0m)               │ (\u001b[38;5;45mNone\u001b[0m, \u001b[38;5;34m100\u001b[0m, \u001b[38;5;34m1024\u001b[0m, \u001b[38;5;34m320\u001b[0m) │        \u001b[38;5;34m39,040\u001b[0m │\n",
       "├─────────────────────────────────┼────────────────────────┼───────────────┤\n",
       "│ max_pooling2d_1 (\u001b[38;5;33mMaxPooling2D\u001b[0m)  │ (\u001b[38;5;45mNone\u001b[0m, \u001b[38;5;34m13\u001b[0m, \u001b[38;5;34m128\u001b[0m, \u001b[38;5;34m320\u001b[0m)   │             \u001b[38;5;34m0\u001b[0m │\n",
       "├─────────────────────────────────┼────────────────────────┼───────────────┤\n",
       "│ batch_normalization_1           │ (\u001b[38;5;45mNone\u001b[0m, \u001b[38;5;34m13\u001b[0m, \u001b[38;5;34m128\u001b[0m, \u001b[38;5;34m320\u001b[0m)   │            \u001b[38;5;34m52\u001b[0m │\n",
       "│ (\u001b[38;5;33mBatchNormalization\u001b[0m)            │                        │               │\n",
       "├─────────────────────────────────┼────────────────────────┼───────────────┤\n",
       "│ flatten_1 (\u001b[38;5;33mFlatten\u001b[0m)             │ (\u001b[38;5;45mNone\u001b[0m, \u001b[38;5;34m532480\u001b[0m)         │             \u001b[38;5;34m0\u001b[0m │\n",
       "├─────────────────────────────────┼────────────────────────┼───────────────┤\n",
       "│ dense_1 (\u001b[38;5;33mDense\u001b[0m)                 │ (\u001b[38;5;45mNone\u001b[0m, \u001b[38;5;34m1\u001b[0m)              │       \u001b[38;5;34m532,481\u001b[0m │\n",
       "└─────────────────────────────────┴────────────────────────┴───────────────┘\n"
      ]
     },
     "metadata": {},
     "output_type": "display_data"
    },
    {
     "data": {
      "text/html": [
       "<pre style=\"white-space:pre;overflow-x:auto;line-height:normal;font-family:Menlo,'DejaVu Sans Mono',consolas,'Courier New',monospace\"><span style=\"font-weight: bold\"> Total params: </span><span style=\"color: #00af00; text-decoration-color: #00af00\">571,573</span> (2.18 MB)\n",
       "</pre>\n"
      ],
      "text/plain": [
       "\u001b[1m Total params: \u001b[0m\u001b[38;5;34m571,573\u001b[0m (2.18 MB)\n"
      ]
     },
     "metadata": {},
     "output_type": "display_data"
    },
    {
     "data": {
      "text/html": [
       "<pre style=\"white-space:pre;overflow-x:auto;line-height:normal;font-family:Menlo,'DejaVu Sans Mono',consolas,'Courier New',monospace\"><span style=\"font-weight: bold\"> Trainable params: </span><span style=\"color: #00af00; text-decoration-color: #00af00\">571,547</span> (2.18 MB)\n",
       "</pre>\n"
      ],
      "text/plain": [
       "\u001b[1m Trainable params: \u001b[0m\u001b[38;5;34m571,547\u001b[0m (2.18 MB)\n"
      ]
     },
     "metadata": {},
     "output_type": "display_data"
    },
    {
     "data": {
      "text/html": [
       "<pre style=\"white-space:pre;overflow-x:auto;line-height:normal;font-family:Menlo,'DejaVu Sans Mono',consolas,'Courier New',monospace\"><span style=\"font-weight: bold\"> Non-trainable params: </span><span style=\"color: #00af00; text-decoration-color: #00af00\">26</span> (104.00 B)\n",
       "</pre>\n"
      ],
      "text/plain": [
       "\u001b[1m Non-trainable params: \u001b[0m\u001b[38;5;34m26\u001b[0m (104.00 B)\n"
      ]
     },
     "metadata": {},
     "output_type": "display_data"
    },
    {
     "name": "stdout",
     "output_type": "stream",
     "text": [
      "(3104, 100, 1024, 1)\n",
      "Epoch 1/30\n"
     ]
    },
    {
     "name": "stderr",
     "output_type": "stream",
     "text": [
      "2024-11-29 01:36:37.253596: E external/local_xla/xla/service/slow_operation_alarm.cc:65] Trying algorithm eng0{} for conv (f32[320,1,11,11]{3,2,1,0}, u8[0]{0}) custom-call(f32[8,1,100,1024]{3,2,1,0}, f32[8,320,100,1024]{3,2,1,0}), window={size=11x11 pad=5_5x5_5}, dim_labels=bf01_oi01->bf01, custom_call_target=\"__cudnn$convBackwardFilter\", backend_config={\"conv_result_scale\":1,\"activation_mode\":\"kNone\",\"side_input_scale\":0,\"leakyrelu_alpha\":0} is taking a while...\n",
      "2024-11-29 01:36:37.333899: E external/local_xla/xla/service/slow_operation_alarm.cc:133] The operation took 1.08040477s\n",
      "Trying algorithm eng0{} for conv (f32[320,1,11,11]{3,2,1,0}, u8[0]{0}) custom-call(f32[8,1,100,1024]{3,2,1,0}, f32[8,320,100,1024]{3,2,1,0}), window={size=11x11 pad=5_5x5_5}, dim_labels=bf01_oi01->bf01, custom_call_target=\"__cudnn$convBackwardFilter\", backend_config={\"conv_result_scale\":1,\"activation_mode\":\"kNone\",\"side_input_scale\":0,\"leakyrelu_alpha\":0} is taking a while...\n",
      "2024-11-29 01:36:39.202856: E external/local_xla/xla/service/slow_operation_alarm.cc:65] Trying algorithm eng0{} for conv (f32[320,1,11,11]{3,2,1,0}, u8[0]{0}) custom-call(f32[8,1,100,1024]{3,2,1,0}, f32[8,320,100,1024]{3,2,1,0}), window={size=11x11 pad=5_5x5_5}, dim_labels=bf01_oi01->bf01, custom_call_target=\"__cudnn$convBackwardFilter\", backend_config={\"conv_result_scale\":1,\"activation_mode\":\"kNone\",\"side_input_scale\":0,\"leakyrelu_alpha\":0} is taking a while...\n",
      "2024-11-29 01:36:39.272140: E external/local_xla/xla/service/slow_operation_alarm.cc:133] The operation took 1.069402564s\n",
      "Trying algorithm eng0{} for conv (f32[320,1,11,11]{3,2,1,0}, u8[0]{0}) custom-call(f32[8,1,100,1024]{3,2,1,0}, f32[8,320,100,1024]{3,2,1,0}), window={size=11x11 pad=5_5x5_5}, dim_labels=bf01_oi01->bf01, custom_call_target=\"__cudnn$convBackwardFilter\", backend_config={\"conv_result_scale\":1,\"activation_mode\":\"kNone\",\"side_input_scale\":0,\"leakyrelu_alpha\":0} is taking a while...\n"
     ]
    },
    {
     "name": "stdout",
     "output_type": "stream",
     "text": [
      "\u001b[1m  3/388\u001b[0m \u001b[37m━━━━━━━━━━━━━━━━━━━━\u001b[0m \u001b[1m25s\u001b[0m 67ms/step - accuracy: 0.4653 - loss: 0.7955 "
     ]
    },
    {
     "name": "stderr",
     "output_type": "stream",
     "text": [
      "WARNING: All log messages before absl::InitializeLog() is called are written to STDERR\n",
      "I0000 00:00:1732844200.251826     122 device_compiler.h:186] Compiled cluster using XLA!  This line is logged at most once for the lifetime of the process.\n"
     ]
    },
    {
     "name": "stdout",
     "output_type": "stream",
     "text": [
      "\u001b[1m388/388\u001b[0m \u001b[32m━━━━━━━━━━━━━━━━━━━━\u001b[0m\u001b[37m\u001b[0m \u001b[1m40s\u001b[0m 75ms/step - accuracy: 0.6244 - loss: 1.0032 - val_accuracy: 0.6765 - val_loss: 0.7783 - learning_rate: 1.0000e-04\n",
      "Epoch 2/30\n",
      "\u001b[1m388/388\u001b[0m \u001b[32m━━━━━━━━━━━━━━━━━━━━\u001b[0m\u001b[37m\u001b[0m \u001b[1m29s\u001b[0m 74ms/step - accuracy: 0.7642 - loss: 0.5953 - val_accuracy: 0.7590 - val_loss: 0.6786 - learning_rate: 1.0000e-04\n",
      "Epoch 3/30\n",
      "\u001b[1m388/388\u001b[0m \u001b[32m━━━━━━━━━━━━━━━━━━━━\u001b[0m\u001b[37m\u001b[0m \u001b[1m29s\u001b[0m 75ms/step - accuracy: 0.8058 - loss: 0.5768 - val_accuracy: 0.6907 - val_loss: 0.7939 - learning_rate: 1.0000e-04\n",
      "Epoch 4/30\n",
      "\u001b[1m388/388\u001b[0m \u001b[32m━━━━━━━━━━━━━━━━━━━━\u001b[0m\u001b[37m\u001b[0m \u001b[1m0s\u001b[0m 69ms/step - accuracy: 0.8606 - loss: 0.4099\n",
      "Epoch 4: ReduceLROnPlateau reducing learning rate to 9.999999747378752e-06.\n",
      "\u001b[1m388/388\u001b[0m \u001b[32m━━━━━━━━━━━━━━━━━━━━\u001b[0m\u001b[37m\u001b[0m \u001b[1m29s\u001b[0m 74ms/step - accuracy: 0.8606 - loss: 0.4100 - val_accuracy: 0.7784 - val_loss: 0.6930 - learning_rate: 1.0000e-04\n",
      "Epoch 5/30\n",
      "\u001b[1m388/388\u001b[0m \u001b[32m━━━━━━━━━━━━━━━━━━━━\u001b[0m\u001b[37m\u001b[0m \u001b[1m29s\u001b[0m 74ms/step - accuracy: 0.8964 - loss: 0.2821 - val_accuracy: 0.7951 - val_loss: 0.5066 - learning_rate: 1.0000e-05\n",
      "Epoch 6/30\n",
      "\u001b[1m388/388\u001b[0m \u001b[32m━━━━━━━━━━━━━━━━━━━━\u001b[0m\u001b[37m\u001b[0m \u001b[1m29s\u001b[0m 75ms/step - accuracy: 0.9175 - loss: 0.2428 - val_accuracy: 0.8003 - val_loss: 0.4465 - learning_rate: 1.0000e-05\n",
      "Epoch 7/30\n",
      "\u001b[1m388/388\u001b[0m \u001b[32m━━━━━━━━━━━━━━━━━━━━\u001b[0m\u001b[37m\u001b[0m \u001b[1m29s\u001b[0m 74ms/step - accuracy: 0.9179 - loss: 0.2366 - val_accuracy: 0.8054 - val_loss: 0.4482 - learning_rate: 1.0000e-05\n",
      "Epoch 8/30\n",
      "\u001b[1m388/388\u001b[0m \u001b[32m━━━━━━━━━━━━━━━━━━━━\u001b[0m\u001b[37m\u001b[0m \u001b[1m29s\u001b[0m 74ms/step - accuracy: 0.9256 - loss: 0.2267 - val_accuracy: 0.8080 - val_loss: 0.4361 - learning_rate: 1.0000e-05\n",
      "Epoch 9/30\n",
      "\u001b[1m388/388\u001b[0m \u001b[32m━━━━━━━━━━━━━━━━━━━━\u001b[0m\u001b[37m\u001b[0m \u001b[1m29s\u001b[0m 75ms/step - accuracy: 0.9159 - loss: 0.2389 - val_accuracy: 0.8041 - val_loss: 0.4282 - learning_rate: 1.0000e-05\n",
      "Epoch 10/30\n",
      "\u001b[1m388/388\u001b[0m \u001b[32m━━━━━━━━━━━━━━━━━━━━\u001b[0m\u001b[37m\u001b[0m \u001b[1m29s\u001b[0m 75ms/step - accuracy: 0.9308 - loss: 0.2196 - val_accuracy: 0.8041 - val_loss: 0.4222 - learning_rate: 1.0000e-05\n",
      "Epoch 11/30\n",
      "\u001b[1m388/388\u001b[0m \u001b[32m━━━━━━━━━━━━━━━━━━━━\u001b[0m\u001b[37m\u001b[0m \u001b[1m29s\u001b[0m 75ms/step - accuracy: 0.9271 - loss: 0.2348 - val_accuracy: 0.8093 - val_loss: 0.4311 - learning_rate: 1.0000e-05\n",
      "Epoch 12/30\n",
      "\u001b[1m388/388\u001b[0m \u001b[32m━━━━━━━━━━━━━━━━━━━━\u001b[0m\u001b[37m\u001b[0m \u001b[1m29s\u001b[0m 75ms/step - accuracy: 0.9299 - loss: 0.2176 - val_accuracy: 0.8170 - val_loss: 0.4184 - learning_rate: 1.0000e-05\n",
      "Epoch 13/30\n",
      "\u001b[1m388/388\u001b[0m \u001b[32m━━━━━━━━━━━━━━━━━━━━\u001b[0m\u001b[37m\u001b[0m \u001b[1m29s\u001b[0m 75ms/step - accuracy: 0.9307 - loss: 0.2174 - val_accuracy: 0.8157 - val_loss: 0.4172 - learning_rate: 1.0000e-05\n",
      "Epoch 14/30\n",
      "\u001b[1m388/388\u001b[0m \u001b[32m━━━━━━━━━━━━━━━━━━━━\u001b[0m\u001b[37m\u001b[0m \u001b[1m29s\u001b[0m 74ms/step - accuracy: 0.9288 - loss: 0.2175 - val_accuracy: 0.8131 - val_loss: 0.4185 - learning_rate: 1.0000e-05\n",
      "Epoch 15/30\n",
      "\u001b[1m388/388\u001b[0m \u001b[32m━━━━━━━━━━━━━━━━━━━━\u001b[0m\u001b[37m\u001b[0m \u001b[1m0s\u001b[0m 70ms/step - accuracy: 0.9370 - loss: 0.2108\n",
      "Epoch 15: ReduceLROnPlateau reducing learning rate to 9.999999747378752e-07.\n",
      "\u001b[1m388/388\u001b[0m \u001b[32m━━━━━━━━━━━━━━━━━━━━\u001b[0m\u001b[37m\u001b[0m \u001b[1m29s\u001b[0m 74ms/step - accuracy: 0.9370 - loss: 0.2108 - val_accuracy: 0.8119 - val_loss: 0.4185 - learning_rate: 1.0000e-05\n",
      "Epoch 16/30\n",
      "\u001b[1m388/388\u001b[0m \u001b[32m━━━━━━━━━━━━━━━━━━━━\u001b[0m\u001b[37m\u001b[0m \u001b[1m29s\u001b[0m 74ms/step - accuracy: 0.9352 - loss: 0.2147 - val_accuracy: 0.8131 - val_loss: 0.4184 - learning_rate: 1.0000e-06\n",
      "Epoch 17/30\n",
      "\u001b[1m388/388\u001b[0m \u001b[32m━━━━━━━━━━━━━━━━━━━━\u001b[0m\u001b[37m\u001b[0m \u001b[1m29s\u001b[0m 74ms/step - accuracy: 0.9449 - loss: 0.2082 - val_accuracy: 0.8196 - val_loss: 0.4150 - learning_rate: 1.0000e-06\n",
      "Epoch 18/30\n",
      "\u001b[1m388/388\u001b[0m \u001b[32m━━━━━━━━━━━━━━━━━━━━\u001b[0m\u001b[37m\u001b[0m \u001b[1m29s\u001b[0m 74ms/step - accuracy: 0.9404 - loss: 0.2151 - val_accuracy: 0.8183 - val_loss: 0.4152 - learning_rate: 1.0000e-06\n",
      "Epoch 19/30\n",
      "\u001b[1m388/388\u001b[0m \u001b[32m━━━━━━━━━━━━━━━━━━━━\u001b[0m\u001b[37m\u001b[0m \u001b[1m0s\u001b[0m 70ms/step - accuracy: 0.9276 - loss: 0.2168\n",
      "Epoch 19: ReduceLROnPlateau reducing learning rate to 9.999999974752428e-08.\n",
      "\u001b[1m388/388\u001b[0m \u001b[32m━━━━━━━━━━━━━━━━━━━━\u001b[0m\u001b[37m\u001b[0m \u001b[1m29s\u001b[0m 74ms/step - accuracy: 0.9276 - loss: 0.2167 - val_accuracy: 0.8119 - val_loss: 0.4168 - learning_rate: 1.0000e-06\n",
      "Epoch 20/30\n",
      "\u001b[1m388/388\u001b[0m \u001b[32m━━━━━━━━━━━━━━━━━━━━\u001b[0m\u001b[37m\u001b[0m \u001b[1m29s\u001b[0m 74ms/step - accuracy: 0.9427 - loss: 0.2133 - val_accuracy: 0.8131 - val_loss: 0.4181 - learning_rate: 1.0000e-07\n",
      "Epoch 21/30\n",
      "\u001b[1m388/388\u001b[0m \u001b[32m━━━━━━━━━━━━━━━━━━━━\u001b[0m\u001b[37m\u001b[0m \u001b[1m0s\u001b[0m 69ms/step - accuracy: 0.9315 - loss: 0.2145\n",
      "Epoch 21: ReduceLROnPlateau reducing learning rate to 1.0000000116860975e-08.\n",
      "\u001b[1m388/388\u001b[0m \u001b[32m━━━━━━━━━━━━━━━━━━━━\u001b[0m\u001b[37m\u001b[0m \u001b[1m29s\u001b[0m 74ms/step - accuracy: 0.9315 - loss: 0.2145 - val_accuracy: 0.8131 - val_loss: 0.4165 - learning_rate: 1.0000e-07\n",
      "Epoch 22/30\n",
      "\u001b[1m388/388\u001b[0m \u001b[32m━━━━━━━━━━━━━━━━━━━━\u001b[0m\u001b[37m\u001b[0m \u001b[1m29s\u001b[0m 74ms/step - accuracy: 0.9471 - loss: 0.2063 - val_accuracy: 0.8144 - val_loss: 0.4151 - learning_rate: 1.0000e-08\n",
      "Epoch 23/30\n",
      "\u001b[1m388/388\u001b[0m \u001b[32m━━━━━━━━━━━━━━━━━━━━\u001b[0m\u001b[37m\u001b[0m \u001b[1m0s\u001b[0m 70ms/step - accuracy: 0.9297 - loss: 0.2178\n",
      "Epoch 23: ReduceLROnPlateau reducing learning rate to 9.999999939225292e-10.\n",
      "\u001b[1m388/388\u001b[0m \u001b[32m━━━━━━━━━━━━━━━━━━━━\u001b[0m\u001b[37m\u001b[0m \u001b[1m29s\u001b[0m 74ms/step - accuracy: 0.9298 - loss: 0.2177 - val_accuracy: 0.8144 - val_loss: 0.4167 - learning_rate: 1.0000e-08\n",
      "Epoch 24/30\n",
      "\u001b[1m388/388\u001b[0m \u001b[32m━━━━━━━━━━━━━━━━━━━━\u001b[0m\u001b[37m\u001b[0m \u001b[1m29s\u001b[0m 74ms/step - accuracy: 0.9398 - loss: 0.2117 - val_accuracy: 0.8144 - val_loss: 0.4162 - learning_rate: 1.0000e-09\n",
      "Epoch 25/30\n",
      "\u001b[1m388/388\u001b[0m \u001b[32m━━━━━━━━━━━━━━━━━━━━\u001b[0m\u001b[37m\u001b[0m \u001b[1m0s\u001b[0m 69ms/step - accuracy: 0.9410 - loss: 0.2105\n",
      "Epoch 25: ReduceLROnPlateau reducing learning rate to 9.999999717180686e-11.\n",
      "\u001b[1m388/388\u001b[0m \u001b[32m━━━━━━━━━━━━━━━━━━━━\u001b[0m\u001b[37m\u001b[0m \u001b[1m29s\u001b[0m 74ms/step - accuracy: 0.9410 - loss: 0.2105 - val_accuracy: 0.8144 - val_loss: 0.4162 - learning_rate: 1.0000e-09\n",
      "Epoch 26/30\n",
      "\u001b[1m388/388\u001b[0m \u001b[32m━━━━━━━━━━━━━━━━━━━━\u001b[0m\u001b[37m\u001b[0m \u001b[1m29s\u001b[0m 74ms/step - accuracy: 0.9432 - loss: 0.2086 - val_accuracy: 0.8131 - val_loss: 0.4155 - learning_rate: 1.0000e-10\n",
      "Epoch 27/30\n",
      "\u001b[1m388/388\u001b[0m \u001b[32m━━━━━━━━━━━━━━━━━━━━\u001b[0m\u001b[37m\u001b[0m \u001b[1m0s\u001b[0m 70ms/step - accuracy: 0.9410 - loss: 0.2039\n",
      "Epoch 27: ReduceLROnPlateau reducing learning rate to 9.99999943962493e-12.\n",
      "\u001b[1m388/388\u001b[0m \u001b[32m━━━━━━━━━━━━━━━━━━━━\u001b[0m\u001b[37m\u001b[0m \u001b[1m29s\u001b[0m 74ms/step - accuracy: 0.9410 - loss: 0.2039 - val_accuracy: 0.8119 - val_loss: 0.4160 - learning_rate: 1.0000e-10\n",
      "Epoch 28/30\n",
      "\u001b[1m388/388\u001b[0m \u001b[32m━━━━━━━━━━━━━━━━━━━━\u001b[0m\u001b[37m\u001b[0m \u001b[1m29s\u001b[0m 75ms/step - accuracy: 0.9437 - loss: 0.2069 - val_accuracy: 0.8131 - val_loss: 0.4168 - learning_rate: 1.0000e-11\n",
      "Epoch 29/30\n",
      "\u001b[1m388/388\u001b[0m \u001b[32m━━━━━━━━━━━━━━━━━━━━\u001b[0m\u001b[37m\u001b[0m \u001b[1m0s\u001b[0m 70ms/step - accuracy: 0.9378 - loss: 0.2116\n",
      "Epoch 29: ReduceLROnPlateau reducing learning rate to 9.999999092680235e-13.\n",
      "\u001b[1m388/388\u001b[0m \u001b[32m━━━━━━━━━━━━━━━━━━━━\u001b[0m\u001b[37m\u001b[0m \u001b[1m29s\u001b[0m 74ms/step - accuracy: 0.9378 - loss: 0.2116 - val_accuracy: 0.8131 - val_loss: 0.4172 - learning_rate: 1.0000e-11\n"
     ]
    },
    {
     "ename": "KeyError",
     "evalue": "'lr'",
     "output_type": "error",
     "traceback": [
      "\u001b[0;31m---------------------------------------------------------------------------\u001b[0m",
      "\u001b[0;31mKeyError\u001b[0m                                  Traceback (most recent call last)",
      "Cell \u001b[0;32mIn[24], line 3\u001b[0m\n\u001b[1;32m      1\u001b[0m model_filepath \u001b[38;5;241m=\u001b[39m \u001b[38;5;124m'\u001b[39m\u001b[38;5;124m/kaggle/working/XLNET.epoch\u001b[39m\u001b[38;5;132;01m{epoch:02d}\u001b[39;00m\u001b[38;5;124m.keras\u001b[39m\u001b[38;5;124m'\u001b[39m\n\u001b[1;32m      2\u001b[0m Plots_Path \u001b[38;5;241m=\u001b[39m \u001b[38;5;124m'\u001b[39m\u001b[38;5;124m/kaggle/working/XLNET.epoch\u001b[39m\u001b[38;5;132;01m{epoch:02d}\u001b[39;00m\u001b[38;5;124m.png\u001b[39m\u001b[38;5;124m'\u001b[39m\n\u001b[0;32m----> 3\u001b[0m \u001b[43mtrain_model\u001b[49m\u001b[43m(\u001b[49m\u001b[43mX_train\u001b[49m\u001b[43m,\u001b[49m\u001b[43m \u001b[49m\u001b[43my_train_res\u001b[49m\u001b[43m,\u001b[49m\u001b[43m \u001b[49m\u001b[43mX_val\u001b[49m\u001b[43m,\u001b[49m\u001b[43m \u001b[49m\u001b[43my_val_res\u001b[49m\u001b[43m,\u001b[49m\u001b[43m \u001b[49m\u001b[43mmodel_filepath\u001b[49m\u001b[43m,\u001b[49m\u001b[43m \u001b[49m\u001b[43mPlots_Path\u001b[49m\u001b[43m,\u001b[49m\u001b[43m \u001b[49m\u001b[38;5;241;43m30\u001b[39;49m\u001b[43m,\u001b[49m\u001b[43m \u001b[49m\u001b[38;5;241;43m8\u001b[39;49m\u001b[43m,\u001b[49m\u001b[43m \u001b[49m\u001b[38;5;28;43;01mFalse\u001b[39;49;00m\u001b[43m,\u001b[49m\u001b[43m \u001b[49m\u001b[38;5;241;43m320\u001b[39;49m\u001b[43m,\u001b[49m\u001b[43m \u001b[49m\u001b[38;5;241;43m11\u001b[39;49m\u001b[43m,\u001b[49m\u001b[43m \u001b[49m\u001b[38;5;124;43m'\u001b[39;49m\u001b[38;5;124;43mRandomNormal\u001b[39;49m\u001b[38;5;124;43m'\u001b[39;49m\u001b[43m,\u001b[49m\u001b[43m \u001b[49m\u001b[38;5;241;43m8\u001b[39;49m\u001b[43m,\u001b[49m\u001b[43m \u001b[49m\u001b[38;5;241;43m0.0001\u001b[39;49m\u001b[43m,\u001b[49m\u001b[43m \u001b[49m\u001b[38;5;124;43m'\u001b[39;49m\u001b[38;5;124;43mSGD\u001b[39;49m\u001b[38;5;124;43m'\u001b[39;49m\u001b[43m)\u001b[49m\n",
      "Cell \u001b[0;32mIn[19], line 92\u001b[0m, in \u001b[0;36mtrain_model\u001b[0;34m(X_train, y_train, X_val, y_val, model_path, plots_path, epochs, batch_size, use_tpu, filter, k_size, k_init, pool_strides, lr, opt)\u001b[0m\n\u001b[1;32m     90\u001b[0m \u001b[38;5;28;01mif\u001b[39;00m i \u001b[38;5;241m==\u001b[39m \u001b[38;5;241m1\u001b[39m:\n\u001b[1;32m     91\u001b[0m   ax2\u001b[38;5;241m=\u001b[39max[i]\u001b[38;5;241m.\u001b[39mtwinx()\n\u001b[0;32m---> 92\u001b[0m   ax2\u001b[38;5;241m.\u001b[39mplot(\u001b[43mhistory\u001b[49m\u001b[38;5;241;43m.\u001b[39;49m\u001b[43mhistory\u001b[49m\u001b[43m[\u001b[49m\u001b[38;5;124;43m'\u001b[39;49m\u001b[38;5;124;43mlr\u001b[39;49m\u001b[38;5;124;43m'\u001b[39;49m\u001b[43m]\u001b[49m, color\u001b[38;5;241m=\u001b[39m \u001b[38;5;124m'\u001b[39m\u001b[38;5;124mmagenta\u001b[39m\u001b[38;5;124m'\u001b[39m, linestyle\u001b[38;5;241m=\u001b[39m\u001b[38;5;124m'\u001b[39m\u001b[38;5;124mdotted\u001b[39m\u001b[38;5;124m'\u001b[39m)\n\u001b[1;32m     93\u001b[0m   ax2\u001b[38;5;241m.\u001b[39mset_ylabel(\u001b[38;5;124m'\u001b[39m\u001b[38;5;124mLearning Rate\u001b[39m\u001b[38;5;124m'\u001b[39m)\n\u001b[1;32m     94\u001b[0m   ax2\u001b[38;5;241m.\u001b[39mlegend([\u001b[38;5;124m'\u001b[39m\u001b[38;5;124mLearning Rate\u001b[39m\u001b[38;5;124m'\u001b[39m], fancybox\u001b[38;5;241m=\u001b[39m\u001b[38;5;28;01mTrue\u001b[39;00m, framealpha\u001b[38;5;241m=\u001b[39m\u001b[38;5;241m1\u001b[39m, shadow\u001b[38;5;241m=\u001b[39m\u001b[38;5;28;01mTrue\u001b[39;00m, borderpad\u001b[38;5;241m=\u001b[39m\u001b[38;5;241m1\u001b[39m, bbox_to_anchor\u001b[38;5;241m=\u001b[39m(\u001b[38;5;241m1.0\u001b[39m, \u001b[38;5;241m0.85\u001b[39m))\n",
      "\u001b[0;31mKeyError\u001b[0m: 'lr'"
     ]
    },
    {
     "data": {
      "image/png": "[encoded data removed]",
      "text/plain": [
       "<Figure size 1440x480 with 3 Axes>"
      ]
     },
     "metadata": {},
     "output_type": "display_data"
    }
   ],
   "source": [
    "model_filepath = '/kaggle/working/XLNET.epoch{epoch:02d}.keras'\n",
    "Plots_Path = '/kaggle/working/XLNET.epoch{epoch:02d}.png'\n",
    "train_model(X_train, y_train_res, X_val, y_val_res, model_filepath, Plots_Path, 30, 8, False, 320, 11, 'RandomNormal', 8, 0.0001, 'SGD')"
   ]
  },
  {
   "cell_type": "code",
   "execution_count": 25,
   "metadata": {
    "execution": {
     "iopub.execute_input": "2024-11-29T01:51:31.555367Z",
     "iopub.status.busy": "2024-11-29T01:51:31.554658Z",
     "iopub.status.idle": "2024-11-29T01:51:31.710207Z",
     "shell.execute_reply": "2024-11-29T01:51:31.709597Z",
     "shell.execute_reply.started": "2024-11-29T01:51:31.555334Z"
    },
    "trusted": true
   },
   "outputs": [],
   "source": [
    "import pandas as pd\n",
    "import numpy as np\n",
    "import sklearn.metrics\n",
    "import matplotlib.pyplot as plt\n",
    "import seaborn as sns\n",
    "from sklearn.metrics import confusion_matrix, classification_report, roc_auc_score, RocCurveDisplay, roc_curve\n",
    "from tensorflow import keras\n",
    "import time\n",
    "\n",
    "%matplotlib inline"
   ]
  },
  {
   "cell_type": "code",
   "execution_count": 26,
   "metadata": {
    "execution": {
     "iopub.execute_input": "2024-11-29T01:51:36.812778Z",
     "iopub.status.busy": "2024-11-29T01:51:36.812129Z",
     "iopub.status.idle": "2024-11-29T01:51:36.823574Z",
     "shell.execute_reply": "2024-11-29T01:51:36.822701Z",
     "shell.execute_reply.started": "2024-11-29T01:51:36.812750Z"
    },
    "trusted": true
   },
   "outputs": [],
   "source": [
    "def display_conf_matrix(true_labels, pred_labels, pred_proba, classifier, savefile):\n",
    "    \n",
    "    # Display and Save Confusion Matrix:\n",
    "    fig = plt.figure(figsize=(6,4), dpi=100)\n",
    "\n",
    "    confusion_matrix1 = pd.crosstab(np.array(true_labels), \n",
    "                                   np.array(pred_labels),\n",
    "                                   rownames=['Actual'], colnames=['Predicted'])\n",
    "    confusion_matrix2 = pd.crosstab(np.array(true_labels), \n",
    "                                   np.array(pred_labels),\n",
    "                                   rownames=['Actual'], colnames=['Predicted'], normalize='index')\n",
    "\n",
    "\n",
    "    # Extracting counts and percentages from the matrices above:\n",
    "    counts = [\"{0:,}\".format(value) for value in\n",
    "                    confusion_matrix1.to_numpy().flatten()]\n",
    "\n",
    "    percentages = [\"{0:.2%}\".format(value) for value in\n",
    "                         confusion_matrix2.to_numpy().flatten()]\n",
    "\n",
    "    # Combining counts and percentages as one label:\n",
    "    labels = [f\"{v1}\\n{v2}\" for v1, v2 in zip(percentages, counts)]\n",
    "\n",
    "    # Reshaping the labels to fit the array:\n",
    "    labels = np.asarray(labels).reshape(2,2)\n",
    "\n",
    "    #Plotting the heatmap:\n",
    "    sns.heatmap(confusion_matrix2, annot=labels, fmt='', cmap='BuPu')\n",
    "    plt.title(\"Confusion Matrix - %s\\n\" % classifier, fontweight='bold')\n",
    "    plt.savefig(savefile, bbox_inches='tight')\n",
    "    plt.show()\n",
    "\n",
    "    # Calculating Metrics Using the Confusion Matrix:\n",
    "    CM = confusion_matrix(true_labels, pred_labels, labels=[0, 1])\n",
    "\n",
    "    TP = CM[1][1]\n",
    "    FN = CM[1][0]\n",
    "    FP = CM[0][1]\n",
    "    TN = CM[0][0]\n",
    "\n",
    "    # Sensitivity, hit rate, recall, or true positive rate\n",
    "    TPR = TP/(TP+FN)\n",
    "    print(f\"Sensitivity:     {TPR*100:.2f}%\")\n",
    "    # Specificity or true negative rate\n",
    "    TNR = TN/(TN+FP) \n",
    "    print(f\"Specificity:     {TNR*100:.2f}%\")\n",
    "    # Precision or positive predictive value\n",
    "    PPV = TP/(TP+FP)\n",
    "    # Negative predictive value\n",
    "    NPV = TN/(TN+FN)\n",
    "    # Fall out or false positive rate\n",
    "    FPR = FP/(FP+TN)\n",
    "    # False negative rate\n",
    "    FNR = FN/(TP+FN)\n",
    "    # False discovery rate\n",
    "    FDR = FP/(TP+FP)\n",
    "\n",
    "    # Overall accuracy\n",
    "    ACC = (TP+TN)/(TP+FP+FN+TN)\n",
    "    print(f\"Accuracy:        {ACC*100:.2f}%\") \n",
    "\n",
    "    # f1 Score:\n",
    "    F1 = TP/(TP + (0.5*(FP+FN)))\n",
    "    print(f\"F1 Score:        {F1*100:.2f}%\") \n",
    "\n",
    "    MCC = ((TP*TN)-(FP*FN))/ (((TP+FP)*(TP+FN)*(TN+FP)*(TN+FN))**0.5)\n",
    "    print(f\"MCC:             {MCC*100:.2f}%\") \n",
    "    \n",
    "    auROC = roc_auc_score(true_labels, pred_proba)\n",
    "    print(f\"auROC:           {auROC*100:.2f}%\") \n",
    "    \n",
    "    metrics = [TPR*100, TNR*100, ACC*100, F1*100, MCC*100, auROC*100]\n",
    "\n",
    "    return metrics"
   ]
  },
  {
   "cell_type": "code",
   "execution_count": 27,
   "metadata": {
    "execution": {
     "iopub.execute_input": "2024-11-29T01:51:38.244719Z",
     "iopub.status.busy": "2024-11-29T01:51:38.244039Z",
     "iopub.status.idle": "2024-11-29T01:51:38.248958Z",
     "shell.execute_reply": "2024-11-29T01:51:38.248133Z",
     "shell.execute_reply.started": "2024-11-29T01:51:38.244691Z"
    },
    "trusted": true
   },
   "outputs": [],
   "source": [
    "def convert_preds(preds):\n",
    "  model_preds = np.concatenate(np.round(preds), axis=0).tolist()\n",
    "  df = pd.DataFrame({'pred_labels': model_preds})\n",
    "  pred_labels = df.pred_labels\n",
    "\n",
    "  return pred_labels"
   ]
  },
  {
   "cell_type": "code",
   "execution_count": 28,
   "metadata": {
    "execution": {
     "iopub.execute_input": "2024-11-29T01:51:42.570329Z",
     "iopub.status.busy": "2024-11-29T01:51:42.570009Z",
     "iopub.status.idle": "2024-11-29T01:51:42.576215Z",
     "shell.execute_reply": "2024-11-29T01:51:42.575350Z",
     "shell.execute_reply.started": "2024-11-29T01:51:42.570285Z"
    },
    "trusted": true
   },
   "outputs": [],
   "source": [
    "def load_X_Test_data(lang_model):\n",
    "  if lang_model =='BERT':\n",
    "    print(\"bert\")\n",
    "    X_test = np.load('/kaggle/working/BERT_EMBED_X_TEST.npy')\n",
    "  elif lang_model =='BERT_BFD':\n",
    "    print(\"here\")\n",
    "    X_test = np.load('/kaggle/working/BERT_BFD_EMBED_X_TEST.npy')\n",
    "  elif lang_model =='T5XL_UNI':\n",
    "    print(\"here\")\n",
    "    X_test = np.load('/kaggle/working/T5XL_UNI_EMBED_X_TEST.npy')\n",
    "  elif lang_model =='T5XL_UNI_INDEP':\n",
    "    X_test = np.load('Embeddings/T5XL_UNI/T5XL_UNI_VELTRI_X_TEST_INDEP.npy')\n",
    "  elif lang_model =='T5XL_BFD':\n",
    "    print(\"T5XL_BFD\")\n",
    "    X_test = np.load('/kaggle/working/T5XL_BFD_EMBED_X_TEST.npy')\n",
    "  elif lang_model =='XLNET':\n",
    "    print(\"here\")\n",
    "    X_test = np.load('/kaggle/working/XLNET_EMMBED_X_TEST.npy')\n",
    "  elif lang_model =='VELTRI':\n",
    "    X_test = np.load('Datasets/VELTRI/X_test_VELTRI_Conv.npy')\n",
    "  \n",
    "  \n",
    "  return X_test"
   ]
  },
  {
   "cell_type": "code",
   "execution_count": 29,
   "metadata": {
    "execution": {
     "iopub.execute_input": "2024-11-29T01:51:44.269760Z",
     "iopub.status.busy": "2024-11-29T01:51:44.269303Z",
     "iopub.status.idle": "2024-11-29T01:51:44.282991Z",
     "shell.execute_reply": "2024-11-29T01:51:44.282144Z",
     "shell.execute_reply.started": "2024-11-29T01:51:44.269725Z"
    },
    "trusted": true
   },
   "outputs": [],
   "source": [
    "y_train = pd.DataFrame({'true_label':np.concatenate(np.round(y_train), axis=0).tolist()}).true_label\n",
    "y_val = pd.DataFrame({'true_label':np.concatenate(np.round(y_val), axis=0).tolist()}).true_label\n",
    "y_test = pd.DataFrame({'true_label':np.concatenate(np.round(y_test), axis=0).tolist()}).true_label"
   ]
  },
  {
   "cell_type": "code",
   "execution_count": 30,
   "metadata": {
    "execution": {
     "iopub.execute_input": "2024-11-29T01:51:46.460233Z",
     "iopub.status.busy": "2024-11-29T01:51:46.459911Z",
     "iopub.status.idle": "2024-11-29T01:51:46.715401Z",
     "shell.execute_reply": "2024-11-29T01:51:46.714672Z",
     "shell.execute_reply.started": "2024-11-29T01:51:46.460208Z"
    },
    "trusted": true
   },
   "outputs": [
    {
     "name": "stdout",
     "output_type": "stream",
     "text": [
      "here\n"
     ]
    }
   ],
   "source": [
    "X_test = load_X_Test_data('XLNET')"
   ]
  },
  {
   "cell_type": "code",
   "execution_count": 31,
   "metadata": {
    "execution": {
     "iopub.execute_input": "2024-11-29T01:51:48.428788Z",
     "iopub.status.busy": "2024-11-29T01:51:48.428464Z",
     "iopub.status.idle": "2024-11-29T01:51:48.434921Z",
     "shell.execute_reply": "2024-11-29T01:51:48.433889Z",
     "shell.execute_reply.started": "2024-11-29T01:51:48.428766Z"
    },
    "trusted": true
   },
   "outputs": [
    {
     "data": {
      "text/plain": [
       "(990, 100, 1024)"
      ]
     },
     "execution_count": 31,
     "metadata": {},
     "output_type": "execute_result"
    }
   ],
   "source": [
    "X_test.shape"
   ]
  },
  {
   "cell_type": "code",
   "execution_count": 32,
   "metadata": {
    "execution": {
     "iopub.execute_input": "2024-11-29T01:51:49.408577Z",
     "iopub.status.busy": "2024-11-29T01:51:49.407919Z",
     "iopub.status.idle": "2024-11-29T01:51:49.412773Z",
     "shell.execute_reply": "2024-11-29T01:51:49.411957Z",
     "shell.execute_reply.started": "2024-11-29T01:51:49.408552Z"
    },
    "trusted": true
   },
   "outputs": [],
   "source": [
    "X_train = X_train.reshape(X_train.shape[0], 100, 1024, 1)\n",
    "X_val = X_val.reshape(X_val.shape[0], 100, 1024, 1)\n",
    "X_test = X_test.reshape(X_test.shape[0], 100, 1024, 1)"
   ]
  },
  {
   "cell_type": "code",
   "execution_count": 33,
   "metadata": {
    "execution": {
     "iopub.execute_input": "2024-11-29T01:51:50.299261Z",
     "iopub.status.busy": "2024-11-29T01:51:50.298563Z",
     "iopub.status.idle": "2024-11-29T01:51:50.304138Z",
     "shell.execute_reply": "2024-11-29T01:51:50.303212Z",
     "shell.execute_reply.started": "2024-11-29T01:51:50.299236Z"
    },
    "trusted": true
   },
   "outputs": [
    {
     "data": {
      "text/plain": [
       "(3104, 100, 1024, 1)"
      ]
     },
     "execution_count": 33,
     "metadata": {},
     "output_type": "execute_result"
    }
   ],
   "source": [
    "X_train.shape"
   ]
  },
  {
   "cell_type": "code",
   "execution_count": 34,
   "metadata": {
    "execution": {
     "iopub.execute_input": "2024-11-29T01:51:51.047422Z",
     "iopub.status.busy": "2024-11-29T01:51:51.046926Z",
     "iopub.status.idle": "2024-11-29T01:51:51.052133Z",
     "shell.execute_reply": "2024-11-29T01:51:51.051377Z",
     "shell.execute_reply.started": "2024-11-29T01:51:51.047396Z"
    },
    "trusted": true
   },
   "outputs": [
    {
     "data": {
      "text/plain": [
       "(776, 100, 1024, 1)"
      ]
     },
     "execution_count": 34,
     "metadata": {},
     "output_type": "execute_result"
    }
   ],
   "source": [
    "X_val.shape"
   ]
  },
  {
   "cell_type": "code",
   "execution_count": 35,
   "metadata": {
    "execution": {
     "iopub.execute_input": "2024-11-29T01:51:51.753022Z",
     "iopub.status.busy": "2024-11-29T01:51:51.752696Z",
     "iopub.status.idle": "2024-11-29T01:51:51.758206Z",
     "shell.execute_reply": "2024-11-29T01:51:51.757363Z",
     "shell.execute_reply.started": "2024-11-29T01:51:51.752996Z"
    },
    "trusted": true
   },
   "outputs": [
    {
     "data": {
      "text/plain": [
       "(990, 100, 1024, 1)"
      ]
     },
     "execution_count": 35,
     "metadata": {},
     "output_type": "execute_result"
    }
   ],
   "source": [
    "X_test.shape"
   ]
  },
  {
   "cell_type": "markdown",
   "metadata": {},
   "source": [
    "## Testing Single Layer Model"
   ]
  },
  {
   "cell_type": "code",
   "execution_count": 82,
   "metadata": {
    "execution": {
     "iopub.execute_input": "2024-11-29T01:54:24.442784Z",
     "iopub.status.busy": "2024-11-29T01:54:24.442281Z",
     "iopub.status.idle": "2024-11-29T01:54:24.505255Z",
     "shell.execute_reply": "2024-11-29T01:54:24.504360Z",
     "shell.execute_reply.started": "2024-11-29T01:54:24.442751Z"
    },
    "trusted": true
   },
   "outputs": [],
   "source": [
    "t5xl_uni_model = keras.models.load_model('/kaggle/working/XLNET.epoch09.keras')"
   ]
  },
  {
   "cell_type": "code",
   "execution_count": 83,
   "metadata": {
    "execution": {
     "iopub.execute_input": "2024-11-29T01:54:24.535103Z",
     "iopub.status.busy": "2024-11-29T01:54:24.534843Z",
     "iopub.status.idle": "2024-11-29T01:54:28.499339Z",
     "shell.execute_reply": "2024-11-29T01:54:28.498639Z",
     "shell.execute_reply.started": "2024-11-29T01:54:24.535081Z"
    },
    "trusted": true
   },
   "outputs": [
    {
     "name": "stdout",
     "output_type": "stream",
     "text": [
      "\u001b[1m124/124\u001b[0m \u001b[32m━━━━━━━━━━━━━━━━━━━━\u001b[0m\u001b[37m\u001b[0m \u001b[1m3s\u001b[0m 20ms/step\n"
     ]
    }
   ],
   "source": [
    "t5xl_uni_mod_pred = t5xl_uni_model.predict(X_test, batch_size=8)"
   ]
  },
  {
   "cell_type": "code",
   "execution_count": 84,
   "metadata": {
    "execution": {
     "iopub.execute_input": "2024-11-29T01:54:28.501594Z",
     "iopub.status.busy": "2024-11-29T01:54:28.501162Z",
     "iopub.status.idle": "2024-11-29T01:54:28.507165Z",
     "shell.execute_reply": "2024-11-29T01:54:28.506356Z",
     "shell.execute_reply.started": "2024-11-29T01:54:28.501561Z"
    },
    "trusted": true
   },
   "outputs": [],
   "source": [
    "t5xl_uni_mod_pred_labels = convert_preds(t5xl_uni_mod_pred)"
   ]
  },
  {
   "cell_type": "code",
   "execution_count": 85,
   "metadata": {
    "execution": {
     "iopub.execute_input": "2024-11-29T01:54:28.508295Z",
     "iopub.status.busy": "2024-11-29T01:54:28.508061Z",
     "iopub.status.idle": "2024-11-29T01:54:28.905506Z",
     "shell.execute_reply": "2024-11-29T01:54:28.904528Z",
     "shell.execute_reply.started": "2024-11-29T01:54:28.508271Z"
    },
    "trusted": true
   },
   "outputs": [
    {
     "data": {
      "image/png": "[encoded data removed]",
      "text/plain": [
       "<Figure size 600x400 with 2 Axes>"
      ]
     },
     "metadata": {},
     "output_type": "display_data"
    },
    {
     "name": "stdout",
     "output_type": "stream",
     "text": [
      "Sensitivity:     85.86%\n",
      "Specificity:     80.40%\n",
      "Accuracy:        83.13%\n",
      "F1 Score:        83.58%\n",
      "MCC:             66.36%\n",
      "auROC:           90.97%\n"
     ]
    }
   ],
   "source": [
    "t5xl_uni_metrics = display_conf_matrix(y_test, t5xl_uni_mod_pred_labels, t5xl_uni_mod_pred, 'E1', '/kaggle/working/XLNET_Model_CM.png')"
   ]
  },
  {
   "cell_type": "markdown",
   "metadata": {},
   "source": [
    "## Create Prob Dataframes"
   ]
  },
  {
   "cell_type": "code",
   "execution_count": 87,
   "metadata": {
    "execution": {
     "iopub.execute_input": "2024-11-29T01:54:43.472461Z",
     "iopub.status.busy": "2024-11-29T01:54:43.472125Z",
     "iopub.status.idle": "2024-11-29T01:54:43.533094Z",
     "shell.execute_reply": "2024-11-29T01:54:43.532498Z",
     "shell.execute_reply.started": "2024-11-29T01:54:43.472435Z"
    },
    "trusted": true
   },
   "outputs": [],
   "source": [
    "best_model = keras.models.load_model('/kaggle/working/XLNET.epoch09.keras')"
   ]
  },
  {
   "cell_type": "code",
   "execution_count": 88,
   "metadata": {
    "execution": {
     "iopub.execute_input": "2024-11-29T01:54:44.437834Z",
     "iopub.status.busy": "2024-11-29T01:54:44.437531Z",
     "iopub.status.idle": "2024-11-29T01:55:02.180795Z",
     "shell.execute_reply": "2024-11-29T01:55:02.180106Z",
     "shell.execute_reply.started": "2024-11-29T01:54:44.437811Z"
    },
    "trusted": true
   },
   "outputs": [
    {
     "name": "stdout",
     "output_type": "stream",
     "text": [
      "\u001b[1m388/388\u001b[0m \u001b[32m━━━━━━━━━━━━━━━━━━━━\u001b[0m\u001b[37m\u001b[0m \u001b[1m7s\u001b[0m 18ms/step\n",
      "\u001b[1m97/97\u001b[0m \u001b[32m━━━━━━━━━━━━━━━━━━━━\u001b[0m\u001b[37m\u001b[0m \u001b[1m2s\u001b[0m 18ms/step\n",
      "\u001b[1m124/124\u001b[0m \u001b[32m━━━━━━━━━━━━━━━━━━━━\u001b[0m\u001b[37m\u001b[0m \u001b[1m2s\u001b[0m 20ms/step\n"
     ]
    }
   ],
   "source": [
    "train_mod_pred = best_model.predict(X_train, batch_size=8)\n",
    "val_mod_pred = best_model.predict(X_val, batch_size=8)\n",
    "test_mod_pred = best_model.predict(X_test, batch_size=8)"
   ]
  },
  {
   "cell_type": "code",
   "execution_count": 89,
   "metadata": {
    "execution": {
     "iopub.execute_input": "2024-11-29T01:55:02.182560Z",
     "iopub.status.busy": "2024-11-29T01:55:02.182272Z",
     "iopub.status.idle": "2024-11-29T01:55:02.187084Z",
     "shell.execute_reply": "2024-11-29T01:55:02.186266Z",
     "shell.execute_reply.started": "2024-11-29T01:55:02.182534Z"
    },
    "trusted": true
   },
   "outputs": [],
   "source": [
    "def create_results_dataframe(data, labels):\n",
    "    # Convert train_mod_pred to a 1D array if it's not already\n",
    "    positive_prob = data.flatten()\n",
    "    \n",
    "    # Ensure y_train is also a 1D array (or Series)\n",
    "    true_label = labels\n",
    "    \n",
    "    # Create a DataFrame\n",
    "    results_df = pd.DataFrame({\n",
    "        'positive_prob': positive_prob,\n",
    "        'true_label': true_label\n",
    "    })\n",
    "    \n",
    "    return results_df"
   ]
  },
  {
   "cell_type": "code",
   "execution_count": 90,
   "metadata": {
    "execution": {
     "iopub.execute_input": "2024-11-29T01:55:02.188149Z",
     "iopub.status.busy": "2024-11-29T01:55:02.187955Z",
     "iopub.status.idle": "2024-11-29T01:55:02.203491Z",
     "shell.execute_reply": "2024-11-29T01:55:02.202773Z",
     "shell.execute_reply.started": "2024-11-29T01:55:02.188132Z"
    },
    "trusted": true
   },
   "outputs": [],
   "source": [
    "train_df = create_results_dataframe(train_mod_pred, y_train)\n",
    "val_df = create_results_dataframe(val_mod_pred, y_val)\n",
    "test_df = create_results_dataframe(test_mod_pred, y_test)"
   ]
  },
  {
   "cell_type": "code",
   "execution_count": 91,
   "metadata": {
    "execution": {
     "iopub.execute_input": "2024-11-29T01:55:02.205545Z",
     "iopub.status.busy": "2024-11-29T01:55:02.205232Z",
     "iopub.status.idle": "2024-11-29T01:55:02.230518Z",
     "shell.execute_reply": "2024-11-29T01:55:02.229789Z",
     "shell.execute_reply.started": "2024-11-29T01:55:02.205518Z"
    },
    "trusted": true
   },
   "outputs": [
    {
     "data": {
      "text/html": [
       "<div>\n",
       "<style scoped>\n",
       "    .dataframe tbody tr th:only-of-type {\n",
       "        vertical-align: middle;\n",
       "    }\n",
       "\n",
       "    .dataframe tbody tr th {\n",
       "        vertical-align: top;\n",
       "    }\n",
       "\n",
       "    .dataframe thead th {\n",
       "        text-align: right;\n",
       "    }\n",
       "</style>\n",
       "<table border=\"1\" class=\"dataframe\">\n",
       "  <thead>\n",
       "    <tr style=\"text-align: right;\">\n",
       "      <th></th>\n",
       "      <th>positive_prob</th>\n",
       "      <th>true_label</th>\n",
       "    </tr>\n",
       "  </thead>\n",
       "  <tbody>\n",
       "    <tr>\n",
       "      <th>0</th>\n",
       "      <td>0.944184</td>\n",
       "      <td>1</td>\n",
       "    </tr>\n",
       "    <tr>\n",
       "      <th>1</th>\n",
       "      <td>0.956916</td>\n",
       "      <td>1</td>\n",
       "    </tr>\n",
       "    <tr>\n",
       "      <th>2</th>\n",
       "      <td>0.034988</td>\n",
       "      <td>0</td>\n",
       "    </tr>\n",
       "    <tr>\n",
       "      <th>3</th>\n",
       "      <td>0.115635</td>\n",
       "      <td>0</td>\n",
       "    </tr>\n",
       "    <tr>\n",
       "      <th>4</th>\n",
       "      <td>0.994937</td>\n",
       "      <td>1</td>\n",
       "    </tr>\n",
       "    <tr>\n",
       "      <th>...</th>\n",
       "      <td>...</td>\n",
       "      <td>...</td>\n",
       "    </tr>\n",
       "    <tr>\n",
       "      <th>3875</th>\n",
       "      <td>0.429026</td>\n",
       "      <td>0</td>\n",
       "    </tr>\n",
       "    <tr>\n",
       "      <th>3876</th>\n",
       "      <td>0.227522</td>\n",
       "      <td>0</td>\n",
       "    </tr>\n",
       "    <tr>\n",
       "      <th>3877</th>\n",
       "      <td>0.697898</td>\n",
       "      <td>0</td>\n",
       "    </tr>\n",
       "    <tr>\n",
       "      <th>3878</th>\n",
       "      <td>0.176784</td>\n",
       "      <td>0</td>\n",
       "    </tr>\n",
       "    <tr>\n",
       "      <th>3879</th>\n",
       "      <td>0.929752</td>\n",
       "      <td>1</td>\n",
       "    </tr>\n",
       "  </tbody>\n",
       "</table>\n",
       "<p>3880 rows × 2 columns</p>\n",
       "</div>"
      ],
      "text/plain": [
       "      positive_prob  true_label\n",
       "0          0.944184           1\n",
       "1          0.956916           1\n",
       "2          0.034988           0\n",
       "3          0.115635           0\n",
       "4          0.994937           1\n",
       "...             ...         ...\n",
       "3875       0.429026           0\n",
       "3876       0.227522           0\n",
       "3877       0.697898           0\n",
       "3878       0.176784           0\n",
       "3879       0.929752           1\n",
       "\n",
       "[3880 rows x 2 columns]"
      ]
     },
     "execution_count": 91,
     "metadata": {},
     "output_type": "execute_result"
    }
   ],
   "source": [
    "combined_df = pd.concat([train_df, val_df], ignore_index=True)\n",
    "combined_df"
   ]
  },
  {
   "cell_type": "code",
   "execution_count": 92,
   "metadata": {
    "execution": {
     "iopub.execute_input": "2024-11-29T01:55:02.231566Z",
     "iopub.status.busy": "2024-11-29T01:55:02.231298Z",
     "iopub.status.idle": "2024-11-29T01:55:02.239558Z",
     "shell.execute_reply": "2024-11-29T01:55:02.238736Z",
     "shell.execute_reply.started": "2024-11-29T01:55:02.231547Z"
    },
    "trusted": true
   },
   "outputs": [
    {
     "data": {
      "text/html": [
       "<div>\n",
       "<style scoped>\n",
       "    .dataframe tbody tr th:only-of-type {\n",
       "        vertical-align: middle;\n",
       "    }\n",
       "\n",
       "    .dataframe tbody tr th {\n",
       "        vertical-align: top;\n",
       "    }\n",
       "\n",
       "    .dataframe thead th {\n",
       "        text-align: right;\n",
       "    }\n",
       "</style>\n",
       "<table border=\"1\" class=\"dataframe\">\n",
       "  <thead>\n",
       "    <tr style=\"text-align: right;\">\n",
       "      <th></th>\n",
       "      <th>positive_prob</th>\n",
       "      <th>true_label</th>\n",
       "    </tr>\n",
       "  </thead>\n",
       "  <tbody>\n",
       "    <tr>\n",
       "      <th>0</th>\n",
       "      <td>0.877655</td>\n",
       "      <td>0</td>\n",
       "    </tr>\n",
       "    <tr>\n",
       "      <th>1</th>\n",
       "      <td>0.029767</td>\n",
       "      <td>0</td>\n",
       "    </tr>\n",
       "    <tr>\n",
       "      <th>2</th>\n",
       "      <td>0.361398</td>\n",
       "      <td>0</td>\n",
       "    </tr>\n",
       "    <tr>\n",
       "      <th>3</th>\n",
       "      <td>0.136520</td>\n",
       "      <td>0</td>\n",
       "    </tr>\n",
       "    <tr>\n",
       "      <th>4</th>\n",
       "      <td>0.005355</td>\n",
       "      <td>0</td>\n",
       "    </tr>\n",
       "    <tr>\n",
       "      <th>...</th>\n",
       "      <td>...</td>\n",
       "      <td>...</td>\n",
       "    </tr>\n",
       "    <tr>\n",
       "      <th>985</th>\n",
       "      <td>0.868459</td>\n",
       "      <td>1</td>\n",
       "    </tr>\n",
       "    <tr>\n",
       "      <th>986</th>\n",
       "      <td>0.876021</td>\n",
       "      <td>1</td>\n",
       "    </tr>\n",
       "    <tr>\n",
       "      <th>987</th>\n",
       "      <td>0.970253</td>\n",
       "      <td>1</td>\n",
       "    </tr>\n",
       "    <tr>\n",
       "      <th>988</th>\n",
       "      <td>0.802487</td>\n",
       "      <td>1</td>\n",
       "    </tr>\n",
       "    <tr>\n",
       "      <th>989</th>\n",
       "      <td>0.097602</td>\n",
       "      <td>1</td>\n",
       "    </tr>\n",
       "  </tbody>\n",
       "</table>\n",
       "<p>990 rows × 2 columns</p>\n",
       "</div>"
      ],
      "text/plain": [
       "     positive_prob  true_label\n",
       "0         0.877655           0\n",
       "1         0.029767           0\n",
       "2         0.361398           0\n",
       "3         0.136520           0\n",
       "4         0.005355           0\n",
       "..             ...         ...\n",
       "985       0.868459           1\n",
       "986       0.876021           1\n",
       "987       0.970253           1\n",
       "988       0.802487           1\n",
       "989       0.097602           1\n",
       "\n",
       "[990 rows x 2 columns]"
      ]
     },
     "execution_count": 92,
     "metadata": {},
     "output_type": "execute_result"
    }
   ],
   "source": [
    "test_df"
   ]
  },
  {
   "cell_type": "code",
   "execution_count": 93,
   "metadata": {
    "execution": {
     "iopub.execute_input": "2024-11-29T01:55:07.151122Z",
     "iopub.status.busy": "2024-11-29T01:55:07.150800Z",
     "iopub.status.idle": "2024-11-29T01:55:07.166292Z",
     "shell.execute_reply": "2024-11-29T01:55:07.165444Z",
     "shell.execute_reply.started": "2024-11-29T01:55:07.151099Z"
    },
    "trusted": true
   },
   "outputs": [],
   "source": [
    "combined_df.to_csv('predneuro_xlnet_train.csv', index=False)\n",
    "test_df.to_csv('predneuro_xlnet_test.csv', index=False)"
   ]
  },
  {
   "cell_type": "code",
   "execution_count": null,
   "metadata": {},
   "outputs": [],
   "source": []
  }
 ],
 "metadata": {
  "kaggle": {
   "accelerator": "nvidiaTeslaT4",
   "dataSources": [
    {
     "datasetId": 4557909,
     "sourceId": 7787199,
     "sourceType": "datasetVersion"
    },
    {
     "datasetId": 4557911,
     "sourceId": 7787203,
     "sourceType": "datasetVersion"
    },
    {
     "datasetId": 4558670,
     "sourceId": 7788383,
     "sourceType": "datasetVersion"
    },
    {
     "datasetId": 5275561,
     "sourceId": 8777357,
     "sourceType": "datasetVersion"
    },
    {
     "datasetId": 5383718,
     "sourceId": 8946547,
     "sourceType": "datasetVersion"
    },
    {
     "datasetId": 6187659,
     "sourceId": 10044090,
     "sourceType": "datasetVersion"
    }
   ],
   "dockerImageVersionId": 30665,
   "isGpuEnabled": true,
   "isInternetEnabled": true,
   "language": "python",
   "sourceType": "notebook"
  },
  "kernelspec": {
   "display_name": "Python 3",
   "language": "python",
   "name": "python3"
  },
  "language_info": {
   "codemirror_mode": {
    "name": "ipython",
    "version": 3
   },
   "file_extension": ".py",
   "mimetype": "text/x-python",
   "name": "python",
   "nbconvert_exporter": "python",
   "pygments_lexer": "ipython3",
   "version": "3.10.13"
  }
 },
 "nbformat": 4,
 "nbformat_minor": 4
}
